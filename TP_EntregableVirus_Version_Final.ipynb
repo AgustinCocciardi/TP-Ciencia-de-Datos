{
  "cells": [
    {
      "cell_type": "markdown",
      "metadata": {
        "id": "view-in-github",
        "colab_type": "text"
      },
      "source": [
        "<a href=\"https://colab.research.google.com/github/AgustinCocciardi/TP-Ciencia-de-Datos/blob/main/TP_EntregableVirus_Version_Final.ipynb\" target=\"_parent\"><img src=\"https://colab.research.google.com/assets/colab-badge.svg\" alt=\"Open In Colab\"/></a>"
      ]
    },
    {
      "cell_type": "markdown",
      "metadata": {
        "id": "VRIv4pmhp_pI"
      },
      "source": [
        "# Examen Práctico"
      ]
    },
    {
      "cell_type": "markdown",
      "metadata": {
        "id": "vA3rOvtzp_pJ"
      },
      "source": [
        "#### 01-3900 | Ciencia de datos | 2024"
      ]
    },
    {
      "cell_type": "markdown",
      "metadata": {
        "id": "ezz4yeYPp_pK"
      },
      "source": [
        "Alumno: Cocciardi Agustin Ignacio"
      ]
    },
    {
      "cell_type": "markdown",
      "metadata": {
        "id": "ToyAllXJp_pK"
      },
      "source": [
        "## Enunciado"
      ]
    },
    {
      "cell_type": "markdown",
      "metadata": {
        "id": "2IfCVFi2p_pK"
      },
      "source": [
        "Se tienen un dataset con datos de pacientes internados en un hospital (TP_Virus_Alumnos.csv). La clase de interes (1) refiere a la presencia de un virus. El virus tiene normalmente una gravedad leve/baja y el tratamiento suele ser invasivo. Datos como nombre y apellido han sido eliminados y los valores tanto en sangre (BLD), hormonales u otros análisis sobre reactivos han sido alterados en sus valores para preservar la privacidad. Se aclara que no se ha modificado su capacidad predictiva (Si es que la tienen).\n"
      ]
    },
    {
      "cell_type": "markdown",
      "metadata": {
        "id": "ePXJLavup_pK"
      },
      "source": [
        "Para su conocimiento: </BR>\n",
        "Datos generales de Edad, Peso, Altura y condición laboral (Activo, Pasivo etc).\n",
        "Datos medidos en hospital:</BR>\n",
        "BLD: Sangre</BR>\n",
        "LVL: Hormonales</BR>\n",
        "REC: Otros análisis</BR>\n",
        "\n",
        "Se pide obtener con los datos disponibles el mejor modelo posible que prediga la presencia o ausencia del virus.\n",
        "Dado que el tratamiento es invasivo y la grevedad es moderada se requiere \"atrapar\" tantos \"1\" como sea posible y minimizar los falsos positivos para evitar que reciban un tratamiento de estas caracteristicas personas que no presentan el virus. Intente obtener el mejor modelo que maximice la métrica que considere correspondiente.\n",
        "\n"
      ]
    },
    {
      "cell_type": "markdown",
      "metadata": {
        "id": "Ubhi8pDqp_pL"
      },
      "source": [
        "## Como desarrollar el exámen"
      ]
    },
    {
      "cell_type": "markdown",
      "metadata": {
        "id": "hFqXTwmep_pL"
      },
      "source": [
        "A partir del dataset realice todas las acciones para poder llegar al mejor modelo, explique brevemente en los fundamentos de sus transformaciones o acciones en general."
      ]
    },
    {
      "cell_type": "markdown",
      "metadata": {
        "id": "m8YiBBpvp_pL"
      },
      "source": [
        "La nota derivará de: </BR>\n",
        "1.La calidad de la clasificación realizada</BR>\n",
        "2.La fundamentación de los pasos realizados</BR>\n",
        "3.Lo sencillo de llevar a producción el desarrollo</BR>\n",
        "\n"
      ]
    },
    {
      "cell_type": "markdown",
      "metadata": {
        "id": "iJhSyUtip_pL"
      },
      "source": [
        "Los docentes evaluaran su clasificador utilizando un conjunto de datos del dataset \"fuera de la caja\" (out of the box, al que usted no tiene acceso). Para minimizar la posible diferencia entre su medición y la medición del docente recuerde y aplique conceptos de test, validación cruzada y evite los errores comunes de sesgo de selección y fuga de datos (PPT/Pdf Árboles de clasificación) o  Sklearn \"10. Common pitfalls and recommended practices\" disponible en \"https://scikit-learn.org/stable/common_pitfalls.html\"   "
      ]
    },
    {
      "cell_type": "markdown",
      "metadata": {
        "id": "EpTo2hcsp_pL"
      },
      "source": [
        "Al final del notebook encontrará un bloque de código que lee la muestra adicional (a la que usted no tiene acceso) si PRODUCCION==True, en caso contrario solo lee una submuestra del conjunto original para validar que el código funciona. Desarrolle el notebook como considere, para finalmente asignar el mejor clasificador que usted haya obtenido remplazando en f_clf = None, None por su clasificador. Implemente todas las transformaciones entre esa lí­nea y la predición final (Evitando la fuga de datos). Ver TP_AutomatizarTransformaciones.ipynb"
      ]
    },
    {
      "cell_type": "markdown",
      "metadata": {
        "id": "HIgAgXYrp_pL"
      },
      "source": [
        "En materiales del MIEL se adjunta un notebook que propone algunas ideas para automatizar el proceso."
      ]
    },
    {
      "cell_type": "markdown",
      "source": [
        "## Desarrollo del TP"
      ],
      "metadata": {
        "id": "44j5jQwX5CIS"
      }
    },
    {
      "cell_type": "markdown",
      "source": [
        "# Importo bibliotecas a usar"
      ],
      "metadata": {
        "id": "GAumD2UZvWHa"
      }
    },
    {
      "cell_type": "code",
      "source": [
        "import pandas as pd\n",
        "import numpy as np\n",
        "from sklearn.impute import SimpleImputer, KNNImputer\n",
        "from sklearn.base import BaseEstimator, TransformerMixin\n",
        "from sklearn.neighbors import KNeighborsClassifier\n",
        "from sklearn.model_selection import train_test_split, RandomizedSearchCV\n",
        "from sklearn.pipeline import Pipeline\n",
        "from sklearn.datasets import make_classification\n",
        "import seaborn as sns\n",
        "from sklearn.preprocessing import OneHotEncoder\n",
        "from sklearn.metrics import classification_report\n",
        "from sklearn.compose import ColumnTransformer\n",
        "from sklearn.preprocessing import StandardScaler, MinMaxScaler\n",
        "import matplotlib.pyplot as plt\n",
        "from sklearn.impute import KNNImputer\n",
        "from sklearn.pipeline import Pipeline\n",
        "from sklearn.impute import SimpleImputer\n",
        "from sklearn.ensemble import RandomForestClassifier\n",
        "from sklearn.naive_bayes import GaussianNB, MultinomialNB\n",
        "from sklearn.linear_model import LinearRegression, LogisticRegression\n",
        "from sklearn.metrics import accuracy_score, mean_squared_error,f1_score\n",
        "from sklearn.metrics import roc_curve, auc\n",
        "from sklearn.model_selection import cross_val_score\n",
        "from sklearn.datasets import make_classification\n",
        "from sklearn.model_selection import GridSearchCV\n",
        "from sklearn.tree import DecisionTreeClassifier"
      ],
      "metadata": {
        "id": "a9spEbXWvY2t"
      },
      "execution_count": 52,
      "outputs": []
    },
    {
      "cell_type": "markdown",
      "source": [
        "# Clases para el Pipeline"
      ],
      "metadata": {
        "id": "96dspBEKu61x"
      }
    },
    {
      "cell_type": "markdown",
      "source": [
        "Clase para aplicar codificación Onehot"
      ],
      "metadata": {
        "id": "zGrlTwm7u9S0"
      }
    },
    {
      "cell_type": "code",
      "source": [
        "class ColOneHot(BaseEstimator, TransformerMixin):\n",
        "    def __init__(self, columns=[]):\n",
        "        self.columns = columns\n",
        "        self.encoder = OneHotEncoder(sparse_output=False, drop='first', dtype=int)\n",
        "        self.feature_names_out = None\n",
        "\n",
        "    def fit(self, X, y=None):\n",
        "        self.encoder.fit(X[self.columns])\n",
        "        self.feature_names_out = self.encoder.get_feature_names_out(input_features=self.columns)\n",
        "        return self\n",
        "\n",
        "    def transform(self, X):\n",
        "        Xc = X.copy()\n",
        "        encoded_columns = pd.DataFrame(self.encoder.transform(X[self.columns]),\n",
        "                                       columns=self.feature_names_out,\n",
        "                                       index=X.index)\n",
        "        Xc = pd.concat([Xc.drop(columns=self.columns), encoded_columns], axis=1)\n",
        "        return Xc\n",
        "\n",
        "    def get_feature_names_out(self):\n",
        "        return self.feature_names_out"
      ],
      "metadata": {
        "id": "4WZBwFaUKFte"
      },
      "execution_count": 24,
      "outputs": []
    },
    {
      "cell_type": "markdown",
      "source": [
        "Clase para aplicar Imputer"
      ],
      "metadata": {
        "id": "mFSr05oSvLrj"
      }
    },
    {
      "cell_type": "code",
      "source": [
        "class ColImputer(BaseEstimator, TransformerMixin):\n",
        "    def __init__(self, imputer=SimpleImputer(), columns=[]):\n",
        "        super().__init__()\n",
        "        self.imputer = imputer\n",
        "        self.columns = columns\n",
        "\n",
        "    def fit(self, X, y=None):\n",
        "        self.imputer.fit(X[self.columns])\n",
        "        return self\n",
        "\n",
        "    def get_feature_names_out(self):\n",
        "        return self.imputer.get_feature_names_out()\n",
        "\n",
        "    def  transform(self, X):\n",
        "        Xc = X.copy()\n",
        "        Xc.loc[:, self.columns] = self.imputer.transform(Xc[self.columns])\n",
        "        return Xc"
      ],
      "metadata": {
        "id": "8kKWnqg9vPrz"
      },
      "execution_count": 25,
      "outputs": []
    },
    {
      "cell_type": "markdown",
      "source": [
        "Clase para aplicar Scaler"
      ],
      "metadata": {
        "id": "_EJMN6QKvqcW"
      }
    },
    {
      "cell_type": "code",
      "source": [
        "class ColScaler(BaseEstimator, TransformerMixin):\n",
        "    def __init__(self, columns=[], scaler=StandardScaler()):\n",
        "        self.scaler = scaler\n",
        "        self.columns = columns\n",
        "        pass\n",
        "    def fit(self, X, y=None):\n",
        "        self.scaler.fit(X[self.columns])\n",
        "        return self\n",
        "    def get_feature_names_out(self):\n",
        "        return None\n",
        "    def  transform(self, X):\n",
        "        x_copy = X.copy()\n",
        "        x_copy[self.columns] = self.scaler.transform(x_copy[self.columns])\n",
        "        return x_copy"
      ],
      "metadata": {
        "id": "9YW57AaZvplg"
      },
      "execution_count": 26,
      "outputs": []
    },
    {
      "cell_type": "markdown",
      "source": [
        "Clase para imputar outliers (usando método de cuantiles)"
      ],
      "metadata": {
        "id": "G6PqLx7DxXrH"
      }
    },
    {
      "cell_type": "code",
      "source": [
        "class OutlierImputer(BaseEstimator, TransformerMixin):\n",
        "    def __init__(self, columns=None, threshold=1.5):\n",
        "        self.columns = columns\n",
        "        self.threshold = threshold\n",
        "\n",
        "    def fit(self, X, y=None):\n",
        "        if self.columns is None:\n",
        "            raise ValueError(\"No se han especificado columnas para imputar los outliers.\")\n",
        "        self.quantiles_ = {}\n",
        "        for col in self.columns:\n",
        "            self.quantiles_[col] = np.nanpercentile(X[col], [25, 75])\n",
        "        return self\n",
        "\n",
        "    def transform(self, X):\n",
        "        if self.columns is None:\n",
        "            raise ValueError(\"No se han especificado columnas para imputar los outliers.\")\n",
        "        for col in self.columns:\n",
        "            column_data = X[col]\n",
        "            lower_quantile, upper_quantile = self.quantiles_[col]\n",
        "            iqr = upper_quantile - lower_quantile\n",
        "            lower_bound = lower_quantile - self.threshold * iqr\n",
        "            upper_bound = upper_quantile + self.threshold * iqr\n",
        "            imputed_column = np.where(\n",
        "                (column_data < lower_bound) | (column_data > upper_bound),\n",
        "                np.nanmedian(column_data),  # Puedes cambiar esto por otra estrategia de imputación si lo deseas\n",
        "                column_data\n",
        "            )\n",
        "            X[col] = imputed_column\n",
        "        return X"
      ],
      "metadata": {
        "id": "HFZrM_WCxbiS"
      },
      "execution_count": 27,
      "outputs": []
    },
    {
      "cell_type": "markdown",
      "source": [
        "Clase para imputar nulos (con media, mediana o moda)"
      ],
      "metadata": {
        "id": "gFk6n2PHx03s"
      }
    },
    {
      "cell_type": "code",
      "source": [
        "class NullImputer(BaseEstimator, TransformerMixin):\n",
        "    def __init__(self, columns=None, strategy='mean'):\n",
        "        self.columns = columns\n",
        "        self.strategy = strategy\n",
        "\n",
        "    def fit(self, X, y=None):\n",
        "        if self.columns is None:\n",
        "            raise ValueError(\"No se han especificado columnas para imputar los valores nulos.\")\n",
        "        self.impute_values_ = {}\n",
        "        for col in self.columns:\n",
        "            if self.strategy == 'mean':\n",
        "                self.impute_values_[col] = X[col].mean()\n",
        "            elif self.strategy == 'median':\n",
        "                self.impute_values_[col] = X[col].median()\n",
        "            elif self.strategy == 'mode':\n",
        "                self.impute_values_[col] = X[col].mode().iloc[0]  # Moda puede devolver varios valores, tomamos el primero\n",
        "            else:\n",
        "                raise ValueError(\"Estrategia de imputación no válida. Las opciones son 'mean', 'median' o 'mode'.\")\n",
        "        return self\n",
        "\n",
        "    def transform(self, X):\n",
        "        if self.columns is None:\n",
        "            raise ValueError(\"No se han especificado columnas para imputar los valores nulos.\")\n",
        "        for col in self.columns:\n",
        "            X[col].fillna(self.impute_values_[col], inplace=True)\n",
        "        return X"
      ],
      "metadata": {
        "id": "QgUvo9HZx2fT"
      },
      "execution_count": 28,
      "outputs": []
    },
    {
      "cell_type": "markdown",
      "source": [
        "Clase para eliminar columnas"
      ],
      "metadata": {
        "id": "4dbnntgZyfp5"
      }
    },
    {
      "cell_type": "code",
      "source": [
        "class ColumnDropper(BaseEstimator, TransformerMixin):\n",
        "    def __init__(self, columns=None):\n",
        "        self.columns = columns\n",
        "\n",
        "    def fit(self, X, y=None):\n",
        "        return self\n",
        "\n",
        "    def transform(self, X):\n",
        "        if self.columns is None:\n",
        "            return X\n",
        "        else:\n",
        "            return X.drop(columns=self.columns)"
      ],
      "metadata": {
        "id": "5XXLKOnzyeYa"
      },
      "execution_count": 29,
      "outputs": []
    },
    {
      "cell_type": "markdown",
      "source": [
        "Clase para calcular promedio entre columnas que se podrían considerar redundantes"
      ],
      "metadata": {
        "id": "pR09tSDz9-8V"
      }
    },
    {
      "cell_type": "code",
      "source": [
        "class ColumnAverager(BaseEstimator, TransformerMixin):\n",
        "    def __init__(self, columns=None, new_column_name='average'):\n",
        "        self.columns = columns\n",
        "        self.new_column_name = new_column_name\n",
        "\n",
        "    def fit(self, X, y=None):\n",
        "        return self\n",
        "\n",
        "    def transform(self, X):\n",
        "        if self.columns is None:\n",
        "            return X\n",
        "        else:\n",
        "            X[self.new_column_name] = X[self.columns].mean(axis=1)\n",
        "            return X"
      ],
      "metadata": {
        "id": "5o3wGY3RVqBJ"
      },
      "execution_count": 30,
      "outputs": []
    },
    {
      "cell_type": "markdown",
      "source": [
        "# Exploracion de datos"
      ],
      "metadata": {
        "id": "KgA8HhUmy8xG"
      }
    },
    {
      "cell_type": "code",
      "source": [
        "df = pd.read_csv(\"TP_Virus_Alumnos.csv\")\n",
        "df"
      ],
      "metadata": {
        "colab": {
          "base_uri": "https://localhost:8080/",
          "height": 424
        },
        "id": "z7f-VHSizAKu",
        "outputId": "a9815411-c10f-4ae1-ede7-3cca96fe8b50"
      },
      "execution_count": 31,
      "outputs": [
        {
          "output_type": "execute_result",
          "data": {
            "text/plain": [
              "      Edad     Genero        Peso     Laboral  hijos     BLD01      REC1  \\\n",
              "0      9.0   Femenino   36.410602    Inactivo      0  3.139714  6.929112   \n",
              "1     58.0  Masculino  115.507184    Inactivo      4  2.953914  4.660136   \n",
              "2     74.0  Masculino   81.249035      Activo      3  1.365200  3.005861   \n",
              "3      NaN  Masculino   77.985589  No_declara      0  2.329285  4.344642   \n",
              "4      1.0   Femenino   13.446208    Inactivo      0 -0.062975  3.938741   \n",
              "...    ...        ...         ...         ...    ...       ...       ...   \n",
              "4195  45.0        NaN   90.221760      Activo      1  1.660127  2.720841   \n",
              "4196   9.0  Masculino   37.949680    Inactivo      0  2.001270  3.892882   \n",
              "4197  24.0  Masculino   72.322983      Activo      1  1.598071  5.566376   \n",
              "4198  16.0        NaN   56.321757    Inactivo      0  1.804688  3.494108   \n",
              "4199  30.0  Masculino   82.340358      Activo      1  0.331220  6.137060   \n",
              "\n",
              "           REC2       REC3       REC4       REC5     BLD02     BLD03  \\\n",
              "0     63.712640  73.880613  15.087239  90.400193  2.015331  1.633836   \n",
              "1     64.582610  73.669319  14.503106  90.817947  0.973317 -0.439358   \n",
              "2     63.613454  75.103984  14.077988  91.741638  3.243344  0.380413   \n",
              "3     64.433115  73.402436  15.583846  91.741709  3.188290 -0.226046   \n",
              "4     65.122602  75.007982  16.961593  90.668625  2.729202  0.589698   \n",
              "...         ...        ...        ...        ...       ...       ...   \n",
              "4195  64.551161  74.409061  15.196857  90.130661  0.936022  0.292744   \n",
              "4196  64.271080  71.905067  15.192511  89.164612  2.887523  0.694750   \n",
              "4197  65.217362  70.912155  15.975612  89.835998 -0.490912  1.572128   \n",
              "4198  61.385971  74.595457  14.696368  91.129958  1.937261  0.428380   \n",
              "4199  65.113372  71.723469  13.325625  90.772408  3.526745  2.397205   \n",
              "\n",
              "                 LVL  target  \n",
              "0          51.411632       0  \n",
              "1     1000000.000000       0  \n",
              "2     1000000.000000       1  \n",
              "3                NaN       0  \n",
              "4          21.627303       1  \n",
              "...              ...     ...  \n",
              "4195      112.514342       0  \n",
              "4196  1000000.000000       1  \n",
              "4197      100.452789       1  \n",
              "4198       82.772516       0  \n",
              "4199      130.228109       0  \n",
              "\n",
              "[4200 rows x 15 columns]"
            ],
            "text/html": [
              "\n",
              "  <div id=\"df-cd6f389d-d69c-42f4-b020-1daf88f4b932\" class=\"colab-df-container\">\n",
              "    <div>\n",
              "<style scoped>\n",
              "    .dataframe tbody tr th:only-of-type {\n",
              "        vertical-align: middle;\n",
              "    }\n",
              "\n",
              "    .dataframe tbody tr th {\n",
              "        vertical-align: top;\n",
              "    }\n",
              "\n",
              "    .dataframe thead th {\n",
              "        text-align: right;\n",
              "    }\n",
              "</style>\n",
              "<table border=\"1\" class=\"dataframe\">\n",
              "  <thead>\n",
              "    <tr style=\"text-align: right;\">\n",
              "      <th></th>\n",
              "      <th>Edad</th>\n",
              "      <th>Genero</th>\n",
              "      <th>Peso</th>\n",
              "      <th>Laboral</th>\n",
              "      <th>hijos</th>\n",
              "      <th>BLD01</th>\n",
              "      <th>REC1</th>\n",
              "      <th>REC2</th>\n",
              "      <th>REC3</th>\n",
              "      <th>REC4</th>\n",
              "      <th>REC5</th>\n",
              "      <th>BLD02</th>\n",
              "      <th>BLD03</th>\n",
              "      <th>LVL</th>\n",
              "      <th>target</th>\n",
              "    </tr>\n",
              "  </thead>\n",
              "  <tbody>\n",
              "    <tr>\n",
              "      <th>0</th>\n",
              "      <td>9.0</td>\n",
              "      <td>Femenino</td>\n",
              "      <td>36.410602</td>\n",
              "      <td>Inactivo</td>\n",
              "      <td>0</td>\n",
              "      <td>3.139714</td>\n",
              "      <td>6.929112</td>\n",
              "      <td>63.712640</td>\n",
              "      <td>73.880613</td>\n",
              "      <td>15.087239</td>\n",
              "      <td>90.400193</td>\n",
              "      <td>2.015331</td>\n",
              "      <td>1.633836</td>\n",
              "      <td>51.411632</td>\n",
              "      <td>0</td>\n",
              "    </tr>\n",
              "    <tr>\n",
              "      <th>1</th>\n",
              "      <td>58.0</td>\n",
              "      <td>Masculino</td>\n",
              "      <td>115.507184</td>\n",
              "      <td>Inactivo</td>\n",
              "      <td>4</td>\n",
              "      <td>2.953914</td>\n",
              "      <td>4.660136</td>\n",
              "      <td>64.582610</td>\n",
              "      <td>73.669319</td>\n",
              "      <td>14.503106</td>\n",
              "      <td>90.817947</td>\n",
              "      <td>0.973317</td>\n",
              "      <td>-0.439358</td>\n",
              "      <td>1000000.000000</td>\n",
              "      <td>0</td>\n",
              "    </tr>\n",
              "    <tr>\n",
              "      <th>2</th>\n",
              "      <td>74.0</td>\n",
              "      <td>Masculino</td>\n",
              "      <td>81.249035</td>\n",
              "      <td>Activo</td>\n",
              "      <td>3</td>\n",
              "      <td>1.365200</td>\n",
              "      <td>3.005861</td>\n",
              "      <td>63.613454</td>\n",
              "      <td>75.103984</td>\n",
              "      <td>14.077988</td>\n",
              "      <td>91.741638</td>\n",
              "      <td>3.243344</td>\n",
              "      <td>0.380413</td>\n",
              "      <td>1000000.000000</td>\n",
              "      <td>1</td>\n",
              "    </tr>\n",
              "    <tr>\n",
              "      <th>3</th>\n",
              "      <td>NaN</td>\n",
              "      <td>Masculino</td>\n",
              "      <td>77.985589</td>\n",
              "      <td>No_declara</td>\n",
              "      <td>0</td>\n",
              "      <td>2.329285</td>\n",
              "      <td>4.344642</td>\n",
              "      <td>64.433115</td>\n",
              "      <td>73.402436</td>\n",
              "      <td>15.583846</td>\n",
              "      <td>91.741709</td>\n",
              "      <td>3.188290</td>\n",
              "      <td>-0.226046</td>\n",
              "      <td>NaN</td>\n",
              "      <td>0</td>\n",
              "    </tr>\n",
              "    <tr>\n",
              "      <th>4</th>\n",
              "      <td>1.0</td>\n",
              "      <td>Femenino</td>\n",
              "      <td>13.446208</td>\n",
              "      <td>Inactivo</td>\n",
              "      <td>0</td>\n",
              "      <td>-0.062975</td>\n",
              "      <td>3.938741</td>\n",
              "      <td>65.122602</td>\n",
              "      <td>75.007982</td>\n",
              "      <td>16.961593</td>\n",
              "      <td>90.668625</td>\n",
              "      <td>2.729202</td>\n",
              "      <td>0.589698</td>\n",
              "      <td>21.627303</td>\n",
              "      <td>1</td>\n",
              "    </tr>\n",
              "    <tr>\n",
              "      <th>...</th>\n",
              "      <td>...</td>\n",
              "      <td>...</td>\n",
              "      <td>...</td>\n",
              "      <td>...</td>\n",
              "      <td>...</td>\n",
              "      <td>...</td>\n",
              "      <td>...</td>\n",
              "      <td>...</td>\n",
              "      <td>...</td>\n",
              "      <td>...</td>\n",
              "      <td>...</td>\n",
              "      <td>...</td>\n",
              "      <td>...</td>\n",
              "      <td>...</td>\n",
              "      <td>...</td>\n",
              "    </tr>\n",
              "    <tr>\n",
              "      <th>4195</th>\n",
              "      <td>45.0</td>\n",
              "      <td>NaN</td>\n",
              "      <td>90.221760</td>\n",
              "      <td>Activo</td>\n",
              "      <td>1</td>\n",
              "      <td>1.660127</td>\n",
              "      <td>2.720841</td>\n",
              "      <td>64.551161</td>\n",
              "      <td>74.409061</td>\n",
              "      <td>15.196857</td>\n",
              "      <td>90.130661</td>\n",
              "      <td>0.936022</td>\n",
              "      <td>0.292744</td>\n",
              "      <td>112.514342</td>\n",
              "      <td>0</td>\n",
              "    </tr>\n",
              "    <tr>\n",
              "      <th>4196</th>\n",
              "      <td>9.0</td>\n",
              "      <td>Masculino</td>\n",
              "      <td>37.949680</td>\n",
              "      <td>Inactivo</td>\n",
              "      <td>0</td>\n",
              "      <td>2.001270</td>\n",
              "      <td>3.892882</td>\n",
              "      <td>64.271080</td>\n",
              "      <td>71.905067</td>\n",
              "      <td>15.192511</td>\n",
              "      <td>89.164612</td>\n",
              "      <td>2.887523</td>\n",
              "      <td>0.694750</td>\n",
              "      <td>1000000.000000</td>\n",
              "      <td>1</td>\n",
              "    </tr>\n",
              "    <tr>\n",
              "      <th>4197</th>\n",
              "      <td>24.0</td>\n",
              "      <td>Masculino</td>\n",
              "      <td>72.322983</td>\n",
              "      <td>Activo</td>\n",
              "      <td>1</td>\n",
              "      <td>1.598071</td>\n",
              "      <td>5.566376</td>\n",
              "      <td>65.217362</td>\n",
              "      <td>70.912155</td>\n",
              "      <td>15.975612</td>\n",
              "      <td>89.835998</td>\n",
              "      <td>-0.490912</td>\n",
              "      <td>1.572128</td>\n",
              "      <td>100.452789</td>\n",
              "      <td>1</td>\n",
              "    </tr>\n",
              "    <tr>\n",
              "      <th>4198</th>\n",
              "      <td>16.0</td>\n",
              "      <td>NaN</td>\n",
              "      <td>56.321757</td>\n",
              "      <td>Inactivo</td>\n",
              "      <td>0</td>\n",
              "      <td>1.804688</td>\n",
              "      <td>3.494108</td>\n",
              "      <td>61.385971</td>\n",
              "      <td>74.595457</td>\n",
              "      <td>14.696368</td>\n",
              "      <td>91.129958</td>\n",
              "      <td>1.937261</td>\n",
              "      <td>0.428380</td>\n",
              "      <td>82.772516</td>\n",
              "      <td>0</td>\n",
              "    </tr>\n",
              "    <tr>\n",
              "      <th>4199</th>\n",
              "      <td>30.0</td>\n",
              "      <td>Masculino</td>\n",
              "      <td>82.340358</td>\n",
              "      <td>Activo</td>\n",
              "      <td>1</td>\n",
              "      <td>0.331220</td>\n",
              "      <td>6.137060</td>\n",
              "      <td>65.113372</td>\n",
              "      <td>71.723469</td>\n",
              "      <td>13.325625</td>\n",
              "      <td>90.772408</td>\n",
              "      <td>3.526745</td>\n",
              "      <td>2.397205</td>\n",
              "      <td>130.228109</td>\n",
              "      <td>0</td>\n",
              "    </tr>\n",
              "  </tbody>\n",
              "</table>\n",
              "<p>4200 rows × 15 columns</p>\n",
              "</div>\n",
              "    <div class=\"colab-df-buttons\">\n",
              "\n",
              "  <div class=\"colab-df-container\">\n",
              "    <button class=\"colab-df-convert\" onclick=\"convertToInteractive('df-cd6f389d-d69c-42f4-b020-1daf88f4b932')\"\n",
              "            title=\"Convert this dataframe to an interactive table.\"\n",
              "            style=\"display:none;\">\n",
              "\n",
              "  <svg xmlns=\"http://www.w3.org/2000/svg\" height=\"24px\" viewBox=\"0 -960 960 960\">\n",
              "    <path d=\"M120-120v-720h720v720H120Zm60-500h600v-160H180v160Zm220 220h160v-160H400v160Zm0 220h160v-160H400v160ZM180-400h160v-160H180v160Zm440 0h160v-160H620v160ZM180-180h160v-160H180v160Zm440 0h160v-160H620v160Z\"/>\n",
              "  </svg>\n",
              "    </button>\n",
              "\n",
              "  <style>\n",
              "    .colab-df-container {\n",
              "      display:flex;\n",
              "      gap: 12px;\n",
              "    }\n",
              "\n",
              "    .colab-df-convert {\n",
              "      background-color: #E8F0FE;\n",
              "      border: none;\n",
              "      border-radius: 50%;\n",
              "      cursor: pointer;\n",
              "      display: none;\n",
              "      fill: #1967D2;\n",
              "      height: 32px;\n",
              "      padding: 0 0 0 0;\n",
              "      width: 32px;\n",
              "    }\n",
              "\n",
              "    .colab-df-convert:hover {\n",
              "      background-color: #E2EBFA;\n",
              "      box-shadow: 0px 1px 2px rgba(60, 64, 67, 0.3), 0px 1px 3px 1px rgba(60, 64, 67, 0.15);\n",
              "      fill: #174EA6;\n",
              "    }\n",
              "\n",
              "    .colab-df-buttons div {\n",
              "      margin-bottom: 4px;\n",
              "    }\n",
              "\n",
              "    [theme=dark] .colab-df-convert {\n",
              "      background-color: #3B4455;\n",
              "      fill: #D2E3FC;\n",
              "    }\n",
              "\n",
              "    [theme=dark] .colab-df-convert:hover {\n",
              "      background-color: #434B5C;\n",
              "      box-shadow: 0px 1px 3px 1px rgba(0, 0, 0, 0.15);\n",
              "      filter: drop-shadow(0px 1px 2px rgba(0, 0, 0, 0.3));\n",
              "      fill: #FFFFFF;\n",
              "    }\n",
              "  </style>\n",
              "\n",
              "    <script>\n",
              "      const buttonEl =\n",
              "        document.querySelector('#df-cd6f389d-d69c-42f4-b020-1daf88f4b932 button.colab-df-convert');\n",
              "      buttonEl.style.display =\n",
              "        google.colab.kernel.accessAllowed ? 'block' : 'none';\n",
              "\n",
              "      async function convertToInteractive(key) {\n",
              "        const element = document.querySelector('#df-cd6f389d-d69c-42f4-b020-1daf88f4b932');\n",
              "        const dataTable =\n",
              "          await google.colab.kernel.invokeFunction('convertToInteractive',\n",
              "                                                    [key], {});\n",
              "        if (!dataTable) return;\n",
              "\n",
              "        const docLinkHtml = 'Like what you see? Visit the ' +\n",
              "          '<a target=\"_blank\" href=https://colab.research.google.com/notebooks/data_table.ipynb>data table notebook</a>'\n",
              "          + ' to learn more about interactive tables.';\n",
              "        element.innerHTML = '';\n",
              "        dataTable['output_type'] = 'display_data';\n",
              "        await google.colab.output.renderOutput(dataTable, element);\n",
              "        const docLink = document.createElement('div');\n",
              "        docLink.innerHTML = docLinkHtml;\n",
              "        element.appendChild(docLink);\n",
              "      }\n",
              "    </script>\n",
              "  </div>\n",
              "\n",
              "\n",
              "<div id=\"df-842ffdea-95e6-4f2a-86c2-166d6ea06379\">\n",
              "  <button class=\"colab-df-quickchart\" onclick=\"quickchart('df-842ffdea-95e6-4f2a-86c2-166d6ea06379')\"\n",
              "            title=\"Suggest charts\"\n",
              "            style=\"display:none;\">\n",
              "\n",
              "<svg xmlns=\"http://www.w3.org/2000/svg\" height=\"24px\"viewBox=\"0 0 24 24\"\n",
              "     width=\"24px\">\n",
              "    <g>\n",
              "        <path d=\"M19 3H5c-1.1 0-2 .9-2 2v14c0 1.1.9 2 2 2h14c1.1 0 2-.9 2-2V5c0-1.1-.9-2-2-2zM9 17H7v-7h2v7zm4 0h-2V7h2v10zm4 0h-2v-4h2v4z\"/>\n",
              "    </g>\n",
              "</svg>\n",
              "  </button>\n",
              "\n",
              "<style>\n",
              "  .colab-df-quickchart {\n",
              "      --bg-color: #E8F0FE;\n",
              "      --fill-color: #1967D2;\n",
              "      --hover-bg-color: #E2EBFA;\n",
              "      --hover-fill-color: #174EA6;\n",
              "      --disabled-fill-color: #AAA;\n",
              "      --disabled-bg-color: #DDD;\n",
              "  }\n",
              "\n",
              "  [theme=dark] .colab-df-quickchart {\n",
              "      --bg-color: #3B4455;\n",
              "      --fill-color: #D2E3FC;\n",
              "      --hover-bg-color: #434B5C;\n",
              "      --hover-fill-color: #FFFFFF;\n",
              "      --disabled-bg-color: #3B4455;\n",
              "      --disabled-fill-color: #666;\n",
              "  }\n",
              "\n",
              "  .colab-df-quickchart {\n",
              "    background-color: var(--bg-color);\n",
              "    border: none;\n",
              "    border-radius: 50%;\n",
              "    cursor: pointer;\n",
              "    display: none;\n",
              "    fill: var(--fill-color);\n",
              "    height: 32px;\n",
              "    padding: 0;\n",
              "    width: 32px;\n",
              "  }\n",
              "\n",
              "  .colab-df-quickchart:hover {\n",
              "    background-color: var(--hover-bg-color);\n",
              "    box-shadow: 0 1px 2px rgba(60, 64, 67, 0.3), 0 1px 3px 1px rgba(60, 64, 67, 0.15);\n",
              "    fill: var(--button-hover-fill-color);\n",
              "  }\n",
              "\n",
              "  .colab-df-quickchart-complete:disabled,\n",
              "  .colab-df-quickchart-complete:disabled:hover {\n",
              "    background-color: var(--disabled-bg-color);\n",
              "    fill: var(--disabled-fill-color);\n",
              "    box-shadow: none;\n",
              "  }\n",
              "\n",
              "  .colab-df-spinner {\n",
              "    border: 2px solid var(--fill-color);\n",
              "    border-color: transparent;\n",
              "    border-bottom-color: var(--fill-color);\n",
              "    animation:\n",
              "      spin 1s steps(1) infinite;\n",
              "  }\n",
              "\n",
              "  @keyframes spin {\n",
              "    0% {\n",
              "      border-color: transparent;\n",
              "      border-bottom-color: var(--fill-color);\n",
              "      border-left-color: var(--fill-color);\n",
              "    }\n",
              "    20% {\n",
              "      border-color: transparent;\n",
              "      border-left-color: var(--fill-color);\n",
              "      border-top-color: var(--fill-color);\n",
              "    }\n",
              "    30% {\n",
              "      border-color: transparent;\n",
              "      border-left-color: var(--fill-color);\n",
              "      border-top-color: var(--fill-color);\n",
              "      border-right-color: var(--fill-color);\n",
              "    }\n",
              "    40% {\n",
              "      border-color: transparent;\n",
              "      border-right-color: var(--fill-color);\n",
              "      border-top-color: var(--fill-color);\n",
              "    }\n",
              "    60% {\n",
              "      border-color: transparent;\n",
              "      border-right-color: var(--fill-color);\n",
              "    }\n",
              "    80% {\n",
              "      border-color: transparent;\n",
              "      border-right-color: var(--fill-color);\n",
              "      border-bottom-color: var(--fill-color);\n",
              "    }\n",
              "    90% {\n",
              "      border-color: transparent;\n",
              "      border-bottom-color: var(--fill-color);\n",
              "    }\n",
              "  }\n",
              "</style>\n",
              "\n",
              "  <script>\n",
              "    async function quickchart(key) {\n",
              "      const quickchartButtonEl =\n",
              "        document.querySelector('#' + key + ' button');\n",
              "      quickchartButtonEl.disabled = true;  // To prevent multiple clicks.\n",
              "      quickchartButtonEl.classList.add('colab-df-spinner');\n",
              "      try {\n",
              "        const charts = await google.colab.kernel.invokeFunction(\n",
              "            'suggestCharts', [key], {});\n",
              "      } catch (error) {\n",
              "        console.error('Error during call to suggestCharts:', error);\n",
              "      }\n",
              "      quickchartButtonEl.classList.remove('colab-df-spinner');\n",
              "      quickchartButtonEl.classList.add('colab-df-quickchart-complete');\n",
              "    }\n",
              "    (() => {\n",
              "      let quickchartButtonEl =\n",
              "        document.querySelector('#df-842ffdea-95e6-4f2a-86c2-166d6ea06379 button');\n",
              "      quickchartButtonEl.style.display =\n",
              "        google.colab.kernel.accessAllowed ? 'block' : 'none';\n",
              "    })();\n",
              "  </script>\n",
              "</div>\n",
              "\n",
              "  <div id=\"id_fd54c18f-ed28-40db-babc-595418c37d50\">\n",
              "    <style>\n",
              "      .colab-df-generate {\n",
              "        background-color: #E8F0FE;\n",
              "        border: none;\n",
              "        border-radius: 50%;\n",
              "        cursor: pointer;\n",
              "        display: none;\n",
              "        fill: #1967D2;\n",
              "        height: 32px;\n",
              "        padding: 0 0 0 0;\n",
              "        width: 32px;\n",
              "      }\n",
              "\n",
              "      .colab-df-generate:hover {\n",
              "        background-color: #E2EBFA;\n",
              "        box-shadow: 0px 1px 2px rgba(60, 64, 67, 0.3), 0px 1px 3px 1px rgba(60, 64, 67, 0.15);\n",
              "        fill: #174EA6;\n",
              "      }\n",
              "\n",
              "      [theme=dark] .colab-df-generate {\n",
              "        background-color: #3B4455;\n",
              "        fill: #D2E3FC;\n",
              "      }\n",
              "\n",
              "      [theme=dark] .colab-df-generate:hover {\n",
              "        background-color: #434B5C;\n",
              "        box-shadow: 0px 1px 3px 1px rgba(0, 0, 0, 0.15);\n",
              "        filter: drop-shadow(0px 1px 2px rgba(0, 0, 0, 0.3));\n",
              "        fill: #FFFFFF;\n",
              "      }\n",
              "    </style>\n",
              "    <button class=\"colab-df-generate\" onclick=\"generateWithVariable('df')\"\n",
              "            title=\"Generate code using this dataframe.\"\n",
              "            style=\"display:none;\">\n",
              "\n",
              "  <svg xmlns=\"http://www.w3.org/2000/svg\" height=\"24px\"viewBox=\"0 0 24 24\"\n",
              "       width=\"24px\">\n",
              "    <path d=\"M7,19H8.4L18.45,9,17,7.55,7,17.6ZM5,21V16.75L18.45,3.32a2,2,0,0,1,2.83,0l1.4,1.43a1.91,1.91,0,0,1,.58,1.4,1.91,1.91,0,0,1-.58,1.4L9.25,21ZM18.45,9,17,7.55Zm-12,3A5.31,5.31,0,0,0,4.9,8.1,5.31,5.31,0,0,0,1,6.5,5.31,5.31,0,0,0,4.9,4.9,5.31,5.31,0,0,0,6.5,1,5.31,5.31,0,0,0,8.1,4.9,5.31,5.31,0,0,0,12,6.5,5.46,5.46,0,0,0,6.5,12Z\"/>\n",
              "  </svg>\n",
              "    </button>\n",
              "    <script>\n",
              "      (() => {\n",
              "      const buttonEl =\n",
              "        document.querySelector('#id_fd54c18f-ed28-40db-babc-595418c37d50 button.colab-df-generate');\n",
              "      buttonEl.style.display =\n",
              "        google.colab.kernel.accessAllowed ? 'block' : 'none';\n",
              "\n",
              "      buttonEl.onclick = () => {\n",
              "        google.colab.notebook.generateWithVariable('df');\n",
              "      }\n",
              "      })();\n",
              "    </script>\n",
              "  </div>\n",
              "\n",
              "    </div>\n",
              "  </div>\n"
            ],
            "application/vnd.google.colaboratory.intrinsic+json": {
              "type": "dataframe",
              "variable_name": "df",
              "summary": "{\n  \"name\": \"df\",\n  \"rows\": 4200,\n  \"fields\": [\n    {\n      \"column\": \"Edad\",\n      \"properties\": {\n        \"dtype\": \"number\",\n        \"std\": 25.04881869164769,\n        \"min\": 0.0,\n        \"max\": 79.0,\n        \"num_unique_values\": 80,\n        \"samples\": [\n          40.0,\n          9.0,\n          10.0\n        ],\n        \"semantic_type\": \"\",\n        \"description\": \"\"\n      }\n    },\n    {\n      \"column\": \"Genero\",\n      \"properties\": {\n        \"dtype\": \"category\",\n        \"num_unique_values\": 3,\n        \"samples\": [\n          \"Femenino\",\n          \"Masculino\",\n          \"Otro\"\n        ],\n        \"semantic_type\": \"\",\n        \"description\": \"\"\n      }\n    },\n    {\n      \"column\": \"Peso\",\n      \"properties\": {\n        \"dtype\": \"number\",\n        \"std\": 25.79297883428877,\n        \"min\": 8.934178194834107,\n        \"max\": 128.85029745810107,\n        \"num_unique_values\": 4154,\n        \"samples\": [\n          101.03018752380062,\n          14.330729352004424,\n          81.66318061763663\n        ],\n        \"semantic_type\": \"\",\n        \"description\": \"\"\n      }\n    },\n    {\n      \"column\": \"Laboral\",\n      \"properties\": {\n        \"dtype\": \"category\",\n        \"num_unique_values\": 3,\n        \"samples\": [\n          \"Inactivo\",\n          \"Activo\",\n          \"No_declara\"\n        ],\n        \"semantic_type\": \"\",\n        \"description\": \"\"\n      }\n    },\n    {\n      \"column\": \"hijos\",\n      \"properties\": {\n        \"dtype\": \"number\",\n        \"std\": 1,\n        \"min\": 0,\n        \"max\": 5,\n        \"num_unique_values\": 6,\n        \"samples\": [\n          0,\n          4,\n          2\n        ],\n        \"semantic_type\": \"\",\n        \"description\": \"\"\n      }\n    },\n    {\n      \"column\": \"BLD01\",\n      \"properties\": {\n        \"dtype\": \"number\",\n        \"std\": 1.1619044460268733,\n        \"min\": -2.994894913962414,\n        \"max\": 5.684674545972798,\n        \"num_unique_values\": 4200,\n        \"samples\": [\n          0.3757815777873058,\n          0.6193322264311822,\n          0.6818153053101611\n        ],\n        \"semantic_type\": \"\",\n        \"description\": \"\"\n      }\n    },\n    {\n      \"column\": \"REC1\",\n      \"properties\": {\n        \"dtype\": \"number\",\n        \"std\": 0.9986909156293927,\n        \"min\": 0.2055331936333733,\n        \"max\": 7.512914900254897,\n        \"num_unique_values\": 4200,\n        \"samples\": [\n          2.961875574455345,\n          4.294339313350174,\n          0.2055331936333733\n        ],\n        \"semantic_type\": \"\",\n        \"description\": \"\"\n      }\n    },\n    {\n      \"column\": \"REC2\",\n      \"properties\": {\n        \"dtype\": \"number\",\n        \"std\": 1.0010913236371346,\n        \"min\": 60.89132976792195,\n        \"max\": 67.63506464534606,\n        \"num_unique_values\": 4200,\n        \"samples\": [\n          64.0487095389653,\n          64.40589965183645,\n          63.620073860853005\n        ],\n        \"semantic_type\": \"\",\n        \"description\": \"\"\n      }\n    },\n    {\n      \"column\": \"REC3\",\n      \"properties\": {\n        \"dtype\": \"number\",\n        \"std\": 1.033638436402333,\n        \"min\": 69.16900990370988,\n        \"max\": 76.78385785014149,\n        \"num_unique_values\": 4200,\n        \"samples\": [\n          72.2706969107244,\n          72.52695166645383,\n          74.00321848707108\n        ],\n        \"semantic_type\": \"\",\n        \"description\": \"\"\n      }\n    },\n    {\n      \"column\": \"REC4\",\n      \"properties\": {\n        \"dtype\": \"number\",\n        \"std\": 1.0384518690724143,\n        \"min\": 10.522454665976063,\n        \"max\": 18.58191056397445,\n        \"num_unique_values\": 4200,\n        \"samples\": [\n          15.043639390531602,\n          15.105463661816346,\n          13.556008505307002\n        ],\n        \"semantic_type\": \"\",\n        \"description\": \"\"\n      }\n    },\n    {\n      \"column\": \"REC5\",\n      \"properties\": {\n        \"dtype\": \"number\",\n        \"std\": 1.0166609874711214,\n        \"min\": 86.49827298099409,\n        \"max\": 93.45909401064824,\n        \"num_unique_values\": 4200,\n        \"samples\": [\n          90.85984448152372,\n          89.98983320991618,\n          90.20353732001726\n        ],\n        \"semantic_type\": \"\",\n        \"description\": \"\"\n      }\n    },\n    {\n      \"column\": \"BLD02\",\n      \"properties\": {\n        \"dtype\": \"number\",\n        \"std\": 1.0131559566634667,\n        \"min\": -3.081165755805334,\n        \"max\": 4.717948304432347,\n        \"num_unique_values\": 4200,\n        \"samples\": [\n          0.0774915030192024,\n          1.4997398472023025,\n          1.7064355701966964\n        ],\n        \"semantic_type\": \"\",\n        \"description\": \"\"\n      }\n    },\n    {\n      \"column\": \"BLD03\",\n      \"properties\": {\n        \"dtype\": \"number\",\n        \"std\": 0.9958714196688423,\n        \"min\": -3.627277483050016,\n        \"max\": 4.105408576271446,\n        \"num_unique_values\": 4200,\n        \"samples\": [\n          -0.2288075346864267,\n          1.0181830686865896,\n          -0.221466177914558\n        ],\n        \"semantic_type\": \"\",\n        \"description\": \"\"\n      }\n    },\n    {\n      \"column\": \"LVL\",\n      \"properties\": {\n        \"dtype\": \"number\",\n        \"std\": 418951.2184775649,\n        \"min\": -15.793610073901403,\n        \"max\": 1000000.0,\n        \"num_unique_values\": 2840,\n        \"samples\": [\n          52.97736273012022,\n          131.39984647094866,\n          88.2711283922093\n        ],\n        \"semantic_type\": \"\",\n        \"description\": \"\"\n      }\n    },\n    {\n      \"column\": \"target\",\n      \"properties\": {\n        \"dtype\": \"number\",\n        \"std\": 0,\n        \"min\": 0,\n        \"max\": 1,\n        \"num_unique_values\": 2,\n        \"samples\": [\n          1,\n          0\n        ],\n        \"semantic_type\": \"\",\n        \"description\": \"\"\n      }\n    }\n  ]\n}"
            }
          },
          "metadata": {},
          "execution_count": 31
        }
      ]
    },
    {
      "cell_type": "markdown",
      "source": [
        "Reviso de qué tipo son los datos"
      ],
      "metadata": {
        "id": "8ejkwxVMzJOu"
      }
    },
    {
      "cell_type": "code",
      "source": [
        "df.dtypes"
      ],
      "metadata": {
        "colab": {
          "base_uri": "https://localhost:8080/"
        },
        "id": "QKSAkXQtzLOd",
        "outputId": "e6cec375-3330-4191-851f-7e228f3a589b"
      },
      "execution_count": 32,
      "outputs": [
        {
          "output_type": "execute_result",
          "data": {
            "text/plain": [
              "Edad       float64\n",
              "Genero      object\n",
              "Peso       float64\n",
              "Laboral     object\n",
              "hijos        int64\n",
              "BLD01      float64\n",
              "REC1       float64\n",
              "REC2       float64\n",
              "REC3       float64\n",
              "REC4       float64\n",
              "REC5       float64\n",
              "BLD02      float64\n",
              "BLD03      float64\n",
              "LVL        float64\n",
              "target       int64\n",
              "dtype: object"
            ]
          },
          "metadata": {},
          "execution_count": 32
        }
      ]
    },
    {
      "cell_type": "markdown",
      "source": [
        "Veo que la mayoría de datos son numéricos, con excepción de Genero y Laboral, que podrían ser considerados como columnas categóricas."
      ],
      "metadata": {
        "id": "YKIgmAVGzNPm"
      }
    },
    {
      "cell_type": "markdown",
      "source": [
        "Veo el balace de mi variable objetivo."
      ],
      "metadata": {
        "id": "X3ZMWkyAqGKd"
      }
    },
    {
      "cell_type": "code",
      "source": [
        "target_distribution = df['target'].value_counts()\n",
        "print(target_distribution)\n",
        "plt.figure(figsize=(8,6))\n",
        "sns.countplot(x='target', data=df)\n",
        "plt.title('Distribución de la Variable Objetivo')\n",
        "plt.xlabel('Clases')\n",
        "plt.ylabel('Frecuencia')\n",
        "plt.show()"
      ],
      "metadata": {
        "colab": {
          "base_uri": "https://localhost:8080/",
          "height": 634
        },
        "id": "F6zA2pJaqINI",
        "outputId": "82f4bae8-ef77-426b-d02e-a2b262bd03c8"
      },
      "execution_count": 33,
      "outputs": [
        {
          "output_type": "stream",
          "name": "stdout",
          "text": [
            "target\n",
            "0    2493\n",
            "1    1707\n",
            "Name: count, dtype: int64\n"
          ]
        },
        {
          "output_type": "display_data",
          "data": {
            "text/plain": [
              "<Figure size 800x600 with 1 Axes>"
            ],
            "image/png": "[encoded data removed]"
          },
          "metadata": {}
        }
      ]
    },
    {
      "cell_type": "markdown",
      "source": [
        "Logro notar que la variable target tiene una distribución de 60-40 entre los que tienen virus y quienes no."
      ],
      "metadata": {
        "id": "zWAllJOiqOdR"
      }
    },
    {
      "cell_type": "markdown",
      "source": [
        "Analizo si tengo columnas con valores negativos"
      ],
      "metadata": {
        "id": "Cge3TMAfWApq"
      }
    },
    {
      "cell_type": "code",
      "source": [
        "negative_columns = [col for col in df.columns if col not in ['Laboral', 'Genero'] and (df[col] < 0).any()]\n",
        "\n",
        "print(\"Columnas con valores negativos:\", negative_columns)"
      ],
      "metadata": {
        "colab": {
          "base_uri": "https://localhost:8080/"
        },
        "id": "cZ3PMw9SWC68",
        "outputId": "613d5d3a-cbe3-4091-8b1b-368a8a99409f"
      },
      "execution_count": 34,
      "outputs": [
        {
          "output_type": "stream",
          "name": "stdout",
          "text": [
            "Columnas con valores negativos: ['BLD01', 'BLD02', 'BLD03', 'LVL']\n"
          ]
        }
      ]
    },
    {
      "cell_type": "markdown",
      "source": [
        "Analizo el porcentaje de nulos de cada columa."
      ],
      "metadata": {
        "id": "zYceOhCozXYA"
      }
    },
    {
      "cell_type": "code",
      "source": [
        "round((df.isnull().sum()/df.shape[0])*100,2)"
      ],
      "metadata": {
        "colab": {
          "base_uri": "https://localhost:8080/"
        },
        "id": "ligDwXu-zaJk",
        "outputId": "e6bdbfc8-93cf-4f98-ba9b-dc1c943a8073"
      },
      "execution_count": 35,
      "outputs": [
        {
          "output_type": "execute_result",
          "data": {
            "text/plain": [
              "Edad       19.57\n",
              "Genero     40.05\n",
              "Peso        0.00\n",
              "Laboral     0.00\n",
              "hijos       0.00\n",
              "BLD01       0.00\n",
              "REC1        0.00\n",
              "REC2        0.00\n",
              "REC3        0.00\n",
              "REC4        0.00\n",
              "REC5        0.00\n",
              "BLD02       0.00\n",
              "BLD03       0.00\n",
              "LVL        12.55\n",
              "target      0.00\n",
              "dtype: float64"
            ]
          },
          "metadata": {},
          "execution_count": 35
        }
      ]
    },
    {
      "cell_type": "markdown",
      "source": [
        "# Cómo voy a trabajar con los datos"
      ],
      "metadata": {
        "id": "i2ie78bf-Per"
      }
    },
    {
      "cell_type": "markdown",
      "source": [
        "Veo que las columnas Edad, Genero y LVL poseen valores nulos. En el caso de Edad y LVL, el porcentaje es bajo, por lo que podría imputar sus valores nulos, eliminar las columnas o decantarme por eliminar las filas donde esas columnas cueten con valores nulos.\n",
        "\n",
        "Para la columna Genero, el valor es muy alto. Si elimino los registros en null de esa columna voy a perder el 40% de mi dataset. Tengo que, o bien imputar sus valores, o eliminar la columna."
      ],
      "metadata": {
        "id": "9nflJ_NfzbWR"
      }
    },
    {
      "cell_type": "markdown",
      "source": [
        "Considero que la columna Genero no es significativa en lo que se refiere a decidir si un paciente tiene un virus o no. La vería importante si estuviéramos analizando un caso de disparidad salarial. Al no considerarla importante para este dataset, la eliminaré."
      ],
      "metadata": {
        "id": "iovgdNV00KqB"
      }
    },
    {
      "cell_type": "markdown",
      "source": [
        "Las columnas de Edad y LVL cuentan con valores nulos, y puedo ver además que LVL posee outliers. Por lo que voy a tener que imputar ambas columnas (en el caso de Edad, para completar nulos; y en el caso de LVL, para completar nulos y eliminar los outliers)"
      ],
      "metadata": {
        "id": "GUDyqe5g1Kds"
      }
    },
    {
      "cell_type": "markdown",
      "source": [
        "Otra transformación que debo hacer es convertir la columna Laboral en dummies para no tener que trabajar con columnas categóricas. Junto con aplicar un escalado a las columnas Edad, Peso, REC2, REC3, REC4, REC5 y LVL, debido a que sus valores son muy grandes y podrían tener más peso en el modelo.\n",
        "\n",
        "Si quiero aplicar un modelo Bayes Multinomial, tengo que aplicar un escalado a las columnas negativas que obtuve más arriba, puesto a que bayes multinomial me arroja error si quiero trabajar con negativos."
      ],
      "metadata": {
        "id": "1M6MJmR_IOio"
      }
    },
    {
      "cell_type": "markdown",
      "source": [
        "# Definición de Pipelies"
      ],
      "metadata": {
        "id": "WC3PiueP-ava"
      }
    },
    {
      "cell_type": "code",
      "source": [
        "#Paso las columnas del Dataset a las variables X e y. X serán los datos a analizar, mientras que y será el objetivo de mi analisis\n",
        "X = df.drop(\"target\", axis=1)\n",
        "y = df[\"target\"]\n",
        "\n",
        "#Divido los conjuntos en dos. Entrenamiento y prueba\n",
        "X_train, X_test, y_train, y_test = train_test_split(X, y, random_state=3, test_size=0.3)"
      ],
      "metadata": {
        "id": "VV7x8c9VRTob"
      },
      "execution_count": 36,
      "outputs": []
    },
    {
      "cell_type": "code",
      "source": [
        "#Defino los pasos comunes de los Pipelines (todas las transformaciones que mencioné más arriba)\n",
        "common_steps = [\n",
        "    (\"ColumnDropper\",ColumnDropper(columns=[\"Genero\"])),\n",
        "    (\"NullImputer\",NullImputer(columns=[\"Edad\",\"LVL\"],strategy='median')),\n",
        "    (\"OutlierImputer\",OutlierImputer(columns=[\"LVL\"])),\n",
        "    (\"OneHot\",ColOneHot(columns=[\"Laboral\"])),\n",
        "    (\"StardardScaler\",ColScaler(columns=[\"Edad\",\"Peso\",\"REC2\",\"REC3\",\"REC4\",\"REC5\",\"LVL\"], scaler=StandardScaler()))\n",
        "]\n",
        "\n",
        "#Bayes multinomial no soporta valores negativos, por lo que crearé un pipeline que use MinMaxScaler para que no queden negativos.\n",
        "\n",
        "multinomial_steps = [\n",
        "    (\"ColumnDropper\",ColumnDropper(columns=[\"Genero\"])),\n",
        "    (\"NullImputer\",NullImputer(columns=[\"Edad\",\"LVL\"],strategy='median')),\n",
        "    (\"OutlierImputer\",OutlierImputer(columns=[\"LVL\"])),\n",
        "    (\"OneHot\",ColOneHot(columns=[\"Laboral\"])),\n",
        "    (\"MinMaxScaler\",ColScaler(columns=[\"Edad\",\"Peso\",\"REC2\",\"REC3\",\"REC4\",\"REC5\",\"BLD01\",\"BLD02\",\"BLD03\",\"LVL\"], scaler=MinMaxScaler(feature_range=(0, 1))))\n",
        "]"
      ],
      "metadata": {
        "id": "9u4s6cV2R3A_"
      },
      "execution_count": 37,
      "outputs": []
    },
    {
      "cell_type": "markdown",
      "source": [
        "# GridSearchCV y métrica a buscar"
      ],
      "metadata": {
        "id": "mlUN6jx3-fUG"
      }
    },
    {
      "cell_type": "markdown",
      "source": [
        "Voy a usar GridSearchCV para evaluar diferentes hiperparámetros para cada uno de los modelos que vimos durante la materia.\n",
        "\n",
        "La métrica que voy a buscar mejorar es el F1 Score. Dado a que sería un error grave el dejar sin tratamiento a alguien que tiene un virus como también dar el tratamiento a alguien que no lo tiene. Necesito un balance entre Precission y Recall para lograr eso."
      ],
      "metadata": {
        "id": "QdZWy3KQndHb"
      }
    },
    {
      "cell_type": "markdown",
      "source": [
        "Modelo KNN"
      ],
      "metadata": {
        "id": "itqL6Qy0nqo8"
      }
    },
    {
      "cell_type": "code",
      "source": [
        "# Defino el pipeline para las transformaciones\n",
        "pipeline = Pipeline(steps=common_steps + [(\"classifier\", KNeighborsClassifier())])\n",
        "\n",
        "# Hiperparámetro de KNN. Cantidad de vecinos. Busco de 3 a 117, avanzando por los impares\n",
        "param_grid = {\n",
        "    'classifier__n_neighbors': list(range(3, 117, 2))\n",
        "}\n",
        "\n",
        "# GridSearchCV\n",
        "grid_search = GridSearchCV(estimator=pipeline, param_grid=param_grid, scoring='f1', cv=5)\n",
        "\n",
        "# Ajusto GridSearchCV a los datos\n",
        "grid_search.fit(X, y)\n",
        "\n",
        "# Veo la mejor combinación de hiper parámetros\n",
        "print(\"Best parameters found: \", grid_search.best_params_)\n",
        "print(\"Best cross-validation score: {:.2f}\".format(grid_search.best_score_))\n",
        "\n",
        "# Mejor modelo\n",
        "best_model = grid_search.best_estimator_"
      ],
      "metadata": {
        "colab": {
          "base_uri": "https://localhost:8080/"
        },
        "id": "6IffTySzsxq_",
        "outputId": "21cf070e-9043-4f8d-e142-319d7d5f124e"
      },
      "execution_count": 38,
      "outputs": [
        {
          "output_type": "stream",
          "name": "stdout",
          "text": [
            "Best parameters found:  {'classifier__n_neighbors': 19}\n",
            "Best cross-validation score: 0.66\n"
          ]
        }
      ]
    },
    {
      "cell_type": "markdown",
      "source": [
        "Modelo Random Forest"
      ],
      "metadata": {
        "id": "NGrXLIWmoY3n"
      }
    },
    {
      "cell_type": "code",
      "source": [
        "# Defino el pipeline para las transformaciones\n",
        "pipeline = Pipeline(steps=common_steps + [(\"classifier\", RandomForestClassifier())])\n",
        "\n",
        "# Defino los hiperparámetros para Random Forest.\n",
        "# N estimators: pruebo co 100, 200, 300 y 500\n",
        "# Max Depth: pruebo con 10, 20 y 30\n",
        "param_grid = {\n",
        "    #'classifier__n_estimators': [100, 200, 300, 500],\n",
        "    #'classifier__max_depth': [10, 20, 30]\n",
        "    'classifier__n_estimators': [30,60,90,120,150,180],\n",
        "    'classifier__max_depth': [3,4,5,6,7,8],\n",
        "    'classifier__criterion': ['gini','entropy','log_loss'],\n",
        "    'classifier__max_features': ['sqrt','log2',None],\n",
        "    'classifier__min_samples_leaf': [2,4,6,8,10],\n",
        "    'classifier__min_samples_split': [2,4,6,8,10,14]\n",
        "}\n",
        "\n",
        "# Configuro RandomizedSearchCV\n",
        "random_search = RandomizedSearchCV(estimator=pipeline,param_distributions=param_grid,scoring='f1',cv=5,n_jobs=-1)\n",
        "\n",
        "# Ajusto Random Search a los datos\n",
        "random_search.fit(X_train, y_train)\n",
        "\n",
        "# Veo la mejor combinación de hiper parámetros\n",
        "print(\"Best parameters found: \", random_search.best_params_)\n",
        "print(\"Best cross-validation score: {:.2f}\".format(random_search.best_score_))\n",
        "\n",
        "# Mejor modelo\n",
        "best_model = grid_search.best_estimator_"
      ],
      "metadata": {
        "colab": {
          "base_uri": "https://localhost:8080/"
        },
        "id": "9JCU1Qq9oapQ",
        "outputId": "4aeabfe3-b55e-4ef4-8a6c-2417df6ded4b"
      },
      "execution_count": 43,
      "outputs": [
        {
          "output_type": "stream",
          "name": "stdout",
          "text": [
            "Best parameters found:  {'classifier__n_estimators': 90, 'classifier__min_samples_split': 14, 'classifier__min_samples_leaf': 10, 'classifier__max_features': None, 'classifier__max_depth': 8, 'classifier__criterion': 'log_loss'}\n",
            "Best cross-validation score: 0.74\n"
          ]
        }
      ]
    },
    {
      "cell_type": "markdown",
      "source": [
        "Modelo Decision Tree"
      ],
      "metadata": {
        "id": "Bl75xa-ouc7q"
      }
    },
    {
      "cell_type": "code",
      "source": [
        "# Defino el pipeline para las transformaciones\n",
        "pipeline = Pipeline(steps=common_steps + [(\"classifier\", DecisionTreeClassifier())])\n",
        "\n",
        "# Defino los hiperparámetros para Decision Tree.\n",
        "# Max Depth: pruebo con 10, 20, 30 y 40.\n",
        "# Min Samples Split: pruebo con 2, 5, 10, 15, 20.\n",
        "# Min Samples Leaf: pruebo con 1, 2, 4, 6, 8, 10, 20, 30, 40, 50.\n",
        "param_grid = {\n",
        "    'classifier__max_depth': [10, 20, 30, 40],\n",
        "    'classifier__min_samples_split': [2, 5, 10, 15, 20],\n",
        "    'classifier__min_samples_leaf': [1, 2, 4, 6, 8, 10, 20, 30, 40, 50]\n",
        "}\n",
        "\n",
        "# GridSearchCV\n",
        "grid_search = GridSearchCV(estimator=pipeline, param_grid=param_grid, scoring='f1', cv=5)\n",
        "\n",
        "# Ajusto GridSearchCV a los datos\n",
        "grid_search.fit(X, y)\n",
        "\n",
        "# Veo la mejor combinación de hiper parámetros\n",
        "print(\"Best parameters found: \", grid_search.best_params_)\n",
        "print(\"Best cross-validation score: {:.2f}\".format(grid_search.best_score_))\n",
        "\n",
        "# Mejor modelo\n",
        "best_model = grid_search.best_estimator_"
      ],
      "metadata": {
        "colab": {
          "base_uri": "https://localhost:8080/"
        },
        "id": "2hr6mGXguepi",
        "outputId": "087577cc-1457-49c7-dc87-42d47d8510b3"
      },
      "execution_count": 42,
      "outputs": [
        {
          "output_type": "stream",
          "name": "stdout",
          "text": [
            "Best parameters found:  {'classifier__max_depth': 10, 'classifier__min_samples_leaf': 50, 'classifier__min_samples_split': 2}\n",
            "Best cross-validation score: 0.71\n"
          ]
        }
      ]
    },
    {
      "cell_type": "markdown",
      "source": [
        "Bayes Multinomial"
      ],
      "metadata": {
        "id": "_EHAGPQNwij2"
      }
    },
    {
      "cell_type": "code",
      "source": [
        "# Defino el pipeline para las transformaciones\n",
        "pipeline = Pipeline(steps=multinomial_steps + [(\"classifier\", MultinomialNB())])\n",
        "\n",
        "# Defino los hiperparámetros para Bayes Multinomial\n",
        "#Alpha: pruebo con 0.1, 0.5, 1.0 y 2.0\n",
        "#Fit prior: pruebo con True y False\n",
        "param_grid = {\n",
        "    'classifier__alpha': [0.1, 0.5, 1.0, 2.0],\n",
        "    'classifier__fit_prior' : [True, False]\n",
        "}\n",
        "\n",
        "# GridSearchCV\n",
        "grid_search = GridSearchCV(estimator=pipeline, param_grid=param_grid, scoring='f1', cv=5)\n",
        "\n",
        "# Ajusto GridSearchCV a los datos\n",
        "grid_search.fit(X, y)\n",
        "\n",
        "# Veo la mejor combinación de hiper parámetros\n",
        "print(\"Best parameters found: \", grid_search.best_params_)\n",
        "print(\"Best cross-validation score: {:.2f}\".format(grid_search.best_score_))\n",
        "\n",
        "# Mejor modelo\n",
        "best_model = grid_search.best_estimator_"
      ],
      "metadata": {
        "colab": {
          "base_uri": "https://localhost:8080/"
        },
        "id": "YT6QQmYVwjzk",
        "outputId": "70e7833b-07dd-40db-87fb-58cae06d04d8"
      },
      "execution_count": 44,
      "outputs": [
        {
          "output_type": "stream",
          "name": "stdout",
          "text": [
            "Best parameters found:  {'classifier__alpha': 0.1, 'classifier__fit_prior': False}\n",
            "Best cross-validation score: 0.62\n"
          ]
        }
      ]
    },
    {
      "cell_type": "markdown",
      "source": [
        "Bayes Gaussiano"
      ],
      "metadata": {
        "id": "MW5_2AvqDu59"
      }
    },
    {
      "cell_type": "code",
      "source": [
        "# Defino el pipeline para las transformaciones\n",
        "pipeline = Pipeline(steps=common_steps + [(\"classifier\", GaussianNB())])\n",
        "\n",
        "# Defino los hiperparámetros para Bayes Multinomial\n",
        "# var_smoothing: pruebo con 1e-9, 1e-8, 1e-7, 1e-6\n",
        "param_grid = {\n",
        "    'classifier__var_smoothing': [1e-9, 1e-8, 1e-7, 1e-6]\n",
        "}\n",
        "\n",
        "# Configurar GridSearchCV\n",
        "grid_search = GridSearchCV(estimator=pipeline, param_grid=param_grid, scoring='f1', cv=5)\n",
        "\n",
        "# Ajustar GridSearchCV a los datos de entrenamiento\n",
        "grid_search.fit(X_train, y_train)\n",
        "\n",
        "# Resultados de la mejor combinación de hiperparámetros\n",
        "print(\"Best parameters found: \", grid_search.best_params_)\n",
        "print(\"Best cross-validation score: {:.2f}\".format(grid_search.best_score_))\n",
        "\n",
        "# Obtener el mejor modelo\n",
        "best_model = grid_search.best_estimator_"
      ],
      "metadata": {
        "colab": {
          "base_uri": "https://localhost:8080/"
        },
        "id": "WiBgkc-DDweU",
        "outputId": "5b4ab48e-eb5c-4515-ed39-855c529c69cb"
      },
      "execution_count": 45,
      "outputs": [
        {
          "output_type": "stream",
          "name": "stdout",
          "text": [
            "Best parameters found:  {'classifier__var_smoothing': 1e-09}\n",
            "Best cross-validation score: 0.65\n"
          ]
        }
      ]
    },
    {
      "cell_type": "markdown",
      "source": [
        "Regresion Logistica"
      ],
      "metadata": {
        "id": "I_FAQSnKyJ05"
      }
    },
    {
      "cell_type": "code",
      "source": [
        "# Defino el pipeline para las transformaciones\n",
        "pipeline = Pipeline(steps=common_steps + [(\"classifier\", LogisticRegression(max_iter=1000))])\n",
        "\n",
        "# Defino los hiperparámetros para Regresion Logistica\n",
        "#Penalty: pruebo l1, l2 y elasticnet\n",
        "#C: pruebo con 0.001, 0.01, 0.1, 1.0 y 10.0\n",
        "#Fit intercept: uso True y False\n",
        "param_grid = {\n",
        "    'classifier__penalty': ['l1', 'l2', 'elasticnet'],\n",
        "    'classifier__C': [0.001, 0.01, 0.1, 1.0, 10.0] ,\n",
        "    'classifier__fit_intercept' : [True, False]\n",
        "}\n",
        "\n",
        "# GridSearchCV\n",
        "grid_search = GridSearchCV(estimator=pipeline, param_grid=param_grid, scoring='f1', cv=5)\n",
        "\n",
        "# Ajusto GridSearchCV a los datos\n",
        "grid_search.fit(X, y)\n",
        "\n",
        "# Veo la mejor combinación de hiper parámetros\n",
        "print(\"Best parameters found: \", grid_search.best_params_)\n",
        "print(\"Best cross-validation score: {:.2f}\".format(grid_search.best_score_))\n",
        "\n",
        "# Mejor modelo\n",
        "best_model = grid_search.best_estimator_\n"
      ],
      "metadata": {
        "colab": {
          "base_uri": "https://localhost:8080/"
        },
        "id": "7ZxYThiQyLKs",
        "outputId": "82424c9a-6300-46c8-c92a-4a97f2b95606"
      },
      "execution_count": 46,
      "outputs": [
        {
          "output_type": "stream",
          "name": "stdout",
          "text": [
            "Best parameters found:  {'classifier__C': 10.0, 'classifier__fit_intercept': True, 'classifier__penalty': 'l2'}\n",
            "Best cross-validation score: 0.68\n"
          ]
        },
        {
          "output_type": "stream",
          "name": "stderr",
          "text": [
            "/usr/local/lib/python3.10/dist-packages/sklearn/model_selection/_validation.py:378: FitFailedWarning: \n",
            "100 fits failed out of a total of 150.\n",
            "The score on these train-test partitions for these parameters will be set to nan.\n",
            "If these failures are not expected, you can try to debug them by setting error_score='raise'.\n",
            "\n",
            "Below are more details about the failures:\n",
            "--------------------------------------------------------------------------------\n",
            "50 fits failed with the following error:\n",
            "Traceback (most recent call last):\n",
            "  File \"/usr/local/lib/python3.10/dist-packages/sklearn/model_selection/_validation.py\", line 686, in _fit_and_score\n",
            "    estimator.fit(X_train, y_train, **fit_params)\n",
            "  File \"/usr/local/lib/python3.10/dist-packages/sklearn/pipeline.py\", line 405, in fit\n",
            "    self._final_estimator.fit(Xt, y, **fit_params_last_step)\n",
            "  File \"/usr/local/lib/python3.10/dist-packages/sklearn/linear_model/_logistic.py\", line 1162, in fit\n",
            "    solver = _check_solver(self.solver, self.penalty, self.dual)\n",
            "  File \"/usr/local/lib/python3.10/dist-packages/sklearn/linear_model/_logistic.py\", line 54, in _check_solver\n",
            "    raise ValueError(\n",
            "ValueError: Solver lbfgs supports only 'l2' or 'none' penalties, got l1 penalty.\n",
            "\n",
            "--------------------------------------------------------------------------------\n",
            "50 fits failed with the following error:\n",
            "Traceback (most recent call last):\n",
            "  File \"/usr/local/lib/python3.10/dist-packages/sklearn/model_selection/_validation.py\", line 686, in _fit_and_score\n",
            "    estimator.fit(X_train, y_train, **fit_params)\n",
            "  File \"/usr/local/lib/python3.10/dist-packages/sklearn/pipeline.py\", line 405, in fit\n",
            "    self._final_estimator.fit(Xt, y, **fit_params_last_step)\n",
            "  File \"/usr/local/lib/python3.10/dist-packages/sklearn/linear_model/_logistic.py\", line 1162, in fit\n",
            "    solver = _check_solver(self.solver, self.penalty, self.dual)\n",
            "  File \"/usr/local/lib/python3.10/dist-packages/sklearn/linear_model/_logistic.py\", line 54, in _check_solver\n",
            "    raise ValueError(\n",
            "ValueError: Solver lbfgs supports only 'l2' or 'none' penalties, got elasticnet penalty.\n",
            "\n",
            "  warnings.warn(some_fits_failed_message, FitFailedWarning)\n",
            "/usr/local/lib/python3.10/dist-packages/sklearn/model_selection/_search.py:952: UserWarning: One or more of the test scores are non-finite: [       nan 0.44826908        nan        nan 0.48808226        nan\n",
            "        nan 0.65590194        nan        nan 0.65101498        nan\n",
            "        nan 0.6747425         nan        nan 0.66839744        nan\n",
            "        nan 0.67616797        nan        nan 0.67023301        nan\n",
            "        nan 0.67638173        nan        nan 0.67002237        nan]\n",
            "  warnings.warn(\n"
          ]
        }
      ]
    },
    {
      "cell_type": "markdown",
      "source": [
        "# Buscando el mejor modelo"
      ],
      "metadata": {
        "id": "755i9IXd-m1t"
      }
    },
    {
      "cell_type": "markdown",
      "source": [
        "Creo los pipelines utilizando los mejores modelos obtenidos"
      ],
      "metadata": {
        "id": "ehF2dNHXzmpj"
      }
    },
    {
      "cell_type": "code",
      "source": [
        "#Defino los pipelines diferentes que voy a usar. Estarán compuestos por los pasos de cada uno y la aplicación de un modelo\n",
        "\n",
        "pipelines = [\n",
        "    Pipeline(steps=common_steps + [(\"clf_knn_47\", KNeighborsClassifier(n_neighbors=19))]),\n",
        "    Pipeline(steps=common_steps + [(\"clf_rf\", RandomForestClassifier(n_estimators=90, max_depth=8,min_samples_leaf=10,min_samples_split=14,max_features=None,criterion='log_loss'))]),\n",
        "    Pipeline(steps=common_steps + [(\"clf_dt\", DecisionTreeClassifier(max_depth=10, min_samples_leaf=50, min_samples_split=2))]),\n",
        "    Pipeline(steps=common_steps + [(\"clf_gnb\", GaussianNB(var_smoothing=1e-09))]),\n",
        "    Pipeline(steps=multinomial_steps + [(\"clf_mnb\", MultinomialNB(alpha=1.0,fit_prior=False))]),\n",
        "    Pipeline(steps=common_steps + [(\"clf_logreg\", LogisticRegression(max_iter=1000, penalty='l2', C=10.0, fit_intercept=True))])\n",
        "]\n",
        "\n",
        "classifier_names = [\n",
        "    \"KNN\",\n",
        "    \"Random Forest\",\n",
        "    \"Decision Tree\",\n",
        "    \"Gaussian NB\",\n",
        "    \"Multinomial NB\",\n",
        "    \"Logistic Regression\"\n",
        "]"
      ],
      "metadata": {
        "id": "e6eHaF96T44l"
      },
      "execution_count": 47,
      "outputs": []
    },
    {
      "cell_type": "code",
      "source": [
        "# Validacion Cruzada de Pipelines\n",
        "for name, pipeline in zip(classifier_names, pipelines):\n",
        "    scores = cross_val_score(pipeline, X, y, cv=5, scoring='f1')\n",
        "    print(f\"Cross-validated F1 Score for {name}: {scores.mean():.2f} (std: {scores.std():.2f})\")"
      ],
      "metadata": {
        "colab": {
          "base_uri": "https://localhost:8080/"
        },
        "id": "6DBOJ6s2cMA8",
        "outputId": "24c88463-1f2f-410e-d1e6-0057ae5aaff6"
      },
      "execution_count": 50,
      "outputs": [
        {
          "output_type": "stream",
          "name": "stdout",
          "text": [
            "Cross-validated F1 Score for KNN: 0.66 (std: 0.01)\n",
            "Cross-validated F1 Score for Random Forest: 0.74 (std: 0.01)\n",
            "Cross-validated F1 Score for Decision Tree: 0.71 (std: 0.02)\n",
            "Cross-validated F1 Score for Gaussian NB: 0.64 (std: 0.01)\n",
            "Cross-validated F1 Score for Multinomial NB: 0.62 (std: 0.01)\n",
            "Cross-validated F1 Score for Logistic Regression: 0.68 (std: 0.01)\n"
          ]
        }
      ]
    },
    {
      "cell_type": "code",
      "source": [
        "# Veo el Score de cada PipeLine\n",
        "for name, pipeline in zip(classifier_names, pipelines):\n",
        "    pipeline.fit(X_train, y_train)\n",
        "    y_pred = pipeline.predict(X_test)\n",
        "    if name == \"Linear Regression\":\n",
        "        mse = mean_squared_error(y_test, y_pred)\n",
        "        print(f\"MSE for {name}: {mse:.2f}\")\n",
        "    else:\n",
        "        f1 = f1_score(y_test, y_pred)\n",
        "        print(f\"F1 Score for {name}: {f1:.2f}\")"
      ],
      "metadata": {
        "colab": {
          "base_uri": "https://localhost:8080/"
        },
        "id": "ShZLIzAmUQV9",
        "outputId": "3f3d3c5f-b89a-4115-d352-f0dc08b7a666"
      },
      "execution_count": 54,
      "outputs": [
        {
          "output_type": "stream",
          "name": "stdout",
          "text": [
            "F1 Score for KNN: 0.66\n",
            "F1 Score for Random Forest: 0.73\n",
            "F1 Score for Decision Tree: 0.70\n",
            "F1 Score for Gaussian NB: 0.65\n",
            "F1 Score for Multinomial NB: 0.61\n",
            "F1 Score for Logistic Regression: 0.68\n"
          ]
        }
      ]
    },
    {
      "cell_type": "markdown",
      "source": [
        "Grafico de curvas ROC"
      ],
      "metadata": {
        "id": "dmogCSluZtGb"
      }
    },
    {
      "cell_type": "code",
      "source": [
        "plt.figure(figsize=(12, 8))\n",
        "for model, name in zip(pipelines, classifier_names):\n",
        "    model.fit(X_train, y_train)\n",
        "    if hasattr(model, \"predict_proba\"):\n",
        "      y_score = model.predict_proba(X_test)[:,1]\n",
        "      fpr, tpr, _ = roc_curve(y_test, y_score)\n",
        "      roc_auc = auc(fpr, tpr)\n",
        "      plt.plot(fpr, tpr, label=f'AUC {name}: {roc_auc:.2f}')\n",
        "\n",
        "plt.plot([0, 1], [0, 1], linestyle='--', color='gray', label='Random (AUC = 0.50)')\n",
        "plt.xlabel('False Positive Rate')\n",
        "plt.ylabel('True Positive Rate')\n",
        "plt.title('Curvas ROC')\n",
        "plt.legend()\n",
        "plt.show()\n"
      ],
      "metadata": {
        "colab": {
          "base_uri": "https://localhost:8080/",
          "height": 718
        },
        "id": "ikcoXe-rZuf2",
        "outputId": "4ad914d3-6fe5-4a54-e674-9c3787283af6"
      },
      "execution_count": 55,
      "outputs": [
        {
          "output_type": "display_data",
          "data": {
            "text/plain": [
              "<Figure size 1200x800 with 1 Axes>"
            ],
            "image/png": "[encoded data removed]"
          },
          "metadata": {}
        }
      ]
    },
    {
      "cell_type": "markdown",
      "source": [
        "El área bajo la curva del modelo Random Forest me indica que es el mejor modelo en comparación con Decision Tree y KNN. En tanto, el peor modelo para este caso sería el Bayes Multinomial, con un área bajo la curva muy baja casi cercana a la curva del azar."
      ],
      "metadata": {
        "id": "i7HGXBRaB9ke"
      }
    },
    {
      "cell_type": "markdown",
      "source": [
        "# Intento mejorar el Score de mi modelo"
      ],
      "metadata": {
        "id": "acpJFOfR-sx2"
      }
    },
    {
      "cell_type": "markdown",
      "source": [
        "Ahora que encontré el mejor modelo posible (Random Forest), intentaré mejorando aplicando otras transformaciones en el pipeline, o bien, revisando si la eliminación de columnas me ayuda en algo."
      ],
      "metadata": {
        "id": "fjzWjDrEPjqS"
      }
    },
    {
      "cell_type": "markdown",
      "source": [
        "Reviso la correlación de las columnas que han permanecido."
      ],
      "metadata": {
        "id": "sAmiBzsBPvI5"
      }
    },
    {
      "cell_type": "code",
      "source": [
        "pipeline = Pipeline(steps=common_steps)\n",
        "\n",
        "# Transformo X usando los pasos del pipeline\n",
        "X_transformed = pipeline.fit_transform(X,y)\n",
        "\n",
        "# Combino X e y en un único DataFrame\n",
        "df_mat = pd.concat([X_transformed, y], axis=1)\n",
        "\n",
        "# Calculo la matriz de correlación\n",
        "correlation_matrix = df_mat.corr()\n",
        "\n",
        "# Configurar el tamaño de la figura para el heatmap\n",
        "plt.figure(figsize=(12, 10))\n",
        "\n",
        "# Crear el heatmap usando seaborn\n",
        "sns.heatmap(correlation_matrix, annot=True, fmt=\".2f\", cmap='coolwarm', square=True, linewidths=.5)\n",
        "\n",
        "# Configurar el título y mostrar el heatmap\n",
        "plt.title('Matriz de Correlación')\n",
        "plt.show()"
      ],
      "metadata": {
        "colab": {
          "base_uri": "https://localhost:8080/",
          "height": 949
        },
        "id": "r1RU-vTnPyEH",
        "outputId": "09e57b7d-127b-4141-b4f6-7a506e022287"
      },
      "execution_count": 56,
      "outputs": [
        {
          "output_type": "display_data",
          "data": {
            "text/plain": [
              "<Figure size 1200x1000 with 2 Axes>"
            ],
            "image/png": "[encoded data removed]"
          },
          "metadata": {}
        }
      ]
    },
    {
      "cell_type": "markdown",
      "source": [
        "Puedo notar que las columnas de Edad, Peso e hijos están relacionadas en este dataset, e igualmente pasa con la columna LVL. En cambio, las columnas BLD0 y REC no están demasiado relacionadas, incluso entre sí. Por eso mismo, tomaré la decisión de dropear algunas de ellas en algunos pipelines para ver que tanto mejora mi score, e incluso en otro podría utilizar el cálculo del promedio para crear una nueva columna.\n",
        "\n",
        "Otra alternativa que podría serme útil sería utilizar la media o la moda para imputar las columnas de Edad y LVL."
      ],
      "metadata": {
        "id": "LUcsMwdSSK1c"
      }
    },
    {
      "cell_type": "code",
      "source": [
        "#Pipeline con los pasos que usé para obtener el mejor modelo\n",
        "pasos_comunes = [\n",
        "    (\"ColumnDropper\",ColumnDropper(columns=[\"Genero\"])),\n",
        "    (\"NullImputer\",NullImputer(columns=[\"Edad\",\"LVL\"],strategy='median')),\n",
        "    (\"OutlierImputer\",OutlierImputer(columns=[\"LVL\"])),\n",
        "    (\"OneHot\",ColOneHot(columns=[\"Laboral\"])),\n",
        "    (\"StardardScaler\",ColScaler(columns=[\"Edad\",\"Peso\",\"REC2\",\"REC3\",\"REC4\",\"REC5\",\"LVL\"], scaler=StandardScaler()))\n",
        "]\n",
        "\n",
        "#Pipeline sin ninguna columna de BLD0 o REC\n",
        "sin_bld_rec = [\n",
        "    (\"ColumnDropper\",ColumnDropper(columns=[\"Genero\",\"BLD01\",\"BLD02\",\"BLD03\",\"REC1\",\"REC2\",\"REC3\",\"REC4\",\"REC5\",])),\n",
        "    (\"NullImputer\",NullImputer(columns=[\"Edad\",\"LVL\"],strategy='median')),\n",
        "    (\"OutlierImputer\",OutlierImputer(columns=[\"LVL\"])),\n",
        "    (\"OneHot\",ColOneHot(columns=[\"Laboral\"])),\n",
        "    (\"StardardScaler\",ColScaler(columns=[\"Edad\",\"Peso\",\"LVL\"], scaler=StandardScaler()))\n",
        "]\n",
        "\n",
        "#Pasos comunes, pero ahora con media para Edad y LVL\n",
        "pasos_comunes_mean = [\n",
        "    (\"ColumnDropper\",ColumnDropper(columns=[\"Genero\"])),\n",
        "    (\"NullImputer\",NullImputer(columns=[\"Edad\",\"LVL\"],strategy='mean')),\n",
        "    (\"OutlierImputer\",OutlierImputer(columns=[\"LVL\"])),\n",
        "    (\"OneHot\",ColOneHot(columns=[\"Laboral\"])),\n",
        "    (\"StardardScaler\",ColScaler(columns=[\"Edad\",\"Peso\",\"REC2\",\"REC3\",\"REC4\",\"REC5\",\"LVL\"], scaler=StandardScaler()))\n",
        "]\n",
        "\n",
        "#Sin BLD0 y REC con media para Edad y LVL\n",
        "sin_bld_rec_mean = [\n",
        "    (\"ColumnDropper\",ColumnDropper(columns=[\"Genero\",\"BLD01\",\"BLD02\",\"BLD03\",\"REC1\",\"REC2\",\"REC3\",\"REC4\",\"REC5\",])),\n",
        "    (\"NullImputer\",NullImputer(columns=[\"Edad\",\"LVL\"],strategy='mean')),\n",
        "    (\"OutlierImputer\",OutlierImputer(columns=[\"LVL\"])),\n",
        "    (\"OneHot\",ColOneHot(columns=[\"Laboral\"])),\n",
        "    (\"StardardScaler\",ColScaler(columns=[\"Edad\",\"Peso\",\"LVL\"], scaler=StandardScaler()))\n",
        "]\n",
        "\n",
        "#Pasos comunes, pero ahora con moda para Edad y LVL\n",
        "pasos_comunes_mode = [\n",
        "    (\"ColumnDropper\",ColumnDropper(columns=[\"Genero\"])),\n",
        "    (\"NullImputer\",NullImputer(columns=[\"Edad\",\"LVL\"],strategy='mode')),\n",
        "    (\"OutlierImputer\",OutlierImputer(columns=[\"LVL\"])),\n",
        "    (\"OneHot\",ColOneHot(columns=[\"Laboral\"])),\n",
        "    (\"StardardScaler\",ColScaler(columns=[\"Edad\",\"Peso\",\"REC2\",\"REC3\",\"REC4\",\"REC5\",\"LVL\"], scaler=StandardScaler()))\n",
        "]\n",
        "\n",
        "#Sin BLD0 y REC con moda para Edad y LVL\n",
        "sin_bld_rec_mode = [\n",
        "    (\"ColumnDropper\",ColumnDropper(columns=[\"Genero\",\"BLD01\",\"BLD02\",\"BLD03\",\"REC1\",\"REC2\",\"REC3\",\"REC4\",\"REC5\",])),\n",
        "    (\"NullImputer\",NullImputer(columns=[\"Edad\",\"LVL\"],strategy='mode')),\n",
        "    (\"OutlierImputer\",OutlierImputer(columns=[\"LVL\"])),\n",
        "    (\"OneHot\",ColOneHot(columns=[\"Laboral\"])),\n",
        "    (\"StardardScaler\",ColScaler(columns=[\"Edad\",\"Peso\",\"LVL\"], scaler=StandardScaler()))\n",
        "]"
      ],
      "metadata": {
        "id": "TLeYWX0XSLnl"
      },
      "execution_count": 57,
      "outputs": []
    },
    {
      "cell_type": "code",
      "source": [
        "#Defino los pipelines diferentes que voy a usar.\n",
        "\n",
        "pipelines = [\n",
        "    Pipeline(steps=pasos_comunes + [(\"common\", RandomForestClassifier(n_estimators=90, max_depth=8,min_samples_leaf=10,min_samples_split=14,max_features=None,criterion='log_loss'))]),\n",
        "    Pipeline(steps=sin_bld_rec + [(\"s_b_r\", RandomForestClassifier(n_estimators=90, max_depth=8,min_samples_leaf=10,min_samples_split=14,max_features=None,criterion='log_loss'))]),\n",
        "    Pipeline(steps=pasos_comunes_mean + [(\"common_mean\", RandomForestClassifier(n_estimators=90, max_depth=8,min_samples_leaf=10,min_samples_split=14,max_features=None,criterion='log_loss'))]),\n",
        "    Pipeline(steps=sin_bld_rec_mean + [(\"s_b_r_mean\", RandomForestClassifier(n_estimators=90, max_depth=8,min_samples_leaf=10,min_samples_split=14,max_features=None,criterion='log_loss'))]),\n",
        "    Pipeline(steps=pasos_comunes_mode + [(\"common_mode\", RandomForestClassifier(n_estimators=90, max_depth=8,min_samples_leaf=10,min_samples_split=14,max_features=None,criterion='log_loss'))]),\n",
        "    Pipeline(steps=sin_bld_rec_mode + [(\"s_b_r_mode\", RandomForestClassifier(n_estimators=90, max_depth=8,min_samples_leaf=10,min_samples_split=14,max_features=None,criterion='log_loss'))])\n",
        "]\n",
        "\n",
        "classifier_names = [\n",
        "    \"Comunes\",\n",
        "    \"S_BLD_REC\",\n",
        "    \"Comunes_Media\",\n",
        "    \"S_BLD_REC_Media\",\n",
        "    \"Comunes_Moda\",\n",
        "    \"S_BLD_REC_Moda\"\n",
        "]"
      ],
      "metadata": {
        "id": "Mg7a6oBQT9ig"
      },
      "execution_count": 58,
      "outputs": []
    },
    {
      "cell_type": "code",
      "source": [
        "# Veo el Score de cada PipeLine\n",
        "for name, pipeline in zip(classifier_names, pipelines):\n",
        "    pipeline.fit(X_train, y_train)\n",
        "    y_pred = pipeline.predict(X_test)\n",
        "    if name == \"Linear Regression\":\n",
        "        mse = mean_squared_error(y_test, y_pred)\n",
        "        print(f\"MSE for {name}: {mse:.2f}\")\n",
        "    else:\n",
        "        f1 = f1_score(y_test, y_pred)\n",
        "        print(f\"F1 Score for {name}: {f1:.2f}\")"
      ],
      "metadata": {
        "colab": {
          "base_uri": "https://localhost:8080/"
        },
        "id": "2uX58aiRU0xk",
        "outputId": "083207b2-2415-44eb-ca63-4f9e60303da7"
      },
      "execution_count": 60,
      "outputs": [
        {
          "output_type": "stream",
          "name": "stdout",
          "text": [
            "F1 Score for Comunes: 0.73\n",
            "F1 Score for S_BLD_REC: 0.68\n",
            "F1 Score for Comunes_Media: 0.73\n",
            "F1 Score for S_BLD_REC_Media: 0.68\n",
            "F1 Score for Comunes_Moda: 0.73\n",
            "F1 Score for S_BLD_REC_Moda: 0.68\n"
          ]
        }
      ]
    },
    {
      "cell_type": "markdown",
      "source": [
        "Noto que dropear todas esas columnas no mejora mi score, e incluso lo reduce. Por lo que trataré de calcular un promedio entre ellas y quedarme con esa nueva columna."
      ],
      "metadata": {
        "id": "SZrH7xSZVAN2"
      }
    },
    {
      "cell_type": "markdown",
      "source": [
        "Creo nuevos pasos para pipelines que incluyan el promedio."
      ],
      "metadata": {
        "id": "Zf4UycYFV3nU"
      }
    },
    {
      "cell_type": "code",
      "source": [
        "#Promedio de columnas con Mediana\n",
        "bld_rec_avg = [\n",
        "    (\"ColumnDropper\",ColumnDropper(columns=[\"Genero\"])),\n",
        "    (\"NullImputer\",NullImputer(columns=[\"Edad\",\"LVL\"],strategy='median')),\n",
        "    (\"OutlierImputer\",OutlierImputer(columns=[\"LVL\"])),\n",
        "    (\"OneHot\",ColOneHot(columns=[\"Laboral\"])),\n",
        "    (\"StardardScaler\",ColScaler(columns=[\"Edad\",\"Peso\",\"REC2\",\"REC3\",\"REC4\",\"REC5\",\"LVL\"], scaler=StandardScaler())),\n",
        "    (\"Averager_B\",ColumnAverager(columns=[\"BLD01\",\"BLD02\",\"BLD03\"],new_column_name=\"BLDAVG\")),\n",
        "    (\"Averager_R\",ColumnAverager(columns=[\"REC1\",\"REC2\",\"REC3\",\"REC4\",\"REC5\"],new_column_name=\"RECAVG\")),\n",
        "    (\"ColumnsAVGDropper\",ColumnDropper(columns=[\"BLD01\",\"BLD02\",\"BLD03\",\"REC1\",\"REC2\",\"REC3\",\"REC4\",\"REC5\"]))\n",
        "]\n",
        "\n",
        "#Promedio de columnas con Media\n",
        "bld_rec_avg_mean = [\n",
        "    (\"ColumnDropper\",ColumnDropper(columns=[\"Genero\"])),\n",
        "    (\"NullImputer\",NullImputer(columns=[\"Edad\",\"LVL\"],strategy='mean')),\n",
        "    (\"OutlierImputer\",OutlierImputer(columns=[\"LVL\"])),\n",
        "    (\"OneHot\",ColOneHot(columns=[\"Laboral\"])),\n",
        "    (\"StardardScaler\",ColScaler(columns=[\"Edad\",\"Peso\",\"REC2\",\"REC3\",\"REC4\",\"REC5\",\"LVL\"], scaler=StandardScaler())),\n",
        "    (\"Averager_B\",ColumnAverager(columns=[\"BLD01\",\"BLD02\",\"BLD03\"],new_column_name=\"BLDAVG\")),\n",
        "    (\"Averager_R\",ColumnAverager(columns=[\"REC1\",\"REC2\",\"REC3\",\"REC4\",\"REC5\"],new_column_name=\"RECAVG\")),\n",
        "    (\"ColumnsAVGDropper\",ColumnDropper(columns=[\"BLD01\",\"BLD02\",\"BLD03\",\"REC1\",\"REC2\",\"REC3\",\"REC4\",\"REC5\"]))\n",
        "]\n",
        "\n",
        "#Promedio de columnas con Moda\n",
        "bld_rec_avg_mode = [\n",
        "    (\"ColumnDropper\",ColumnDropper(columns=[\"Genero\"])),\n",
        "    (\"NullImputer\",NullImputer(columns=[\"Edad\",\"LVL\"],strategy='mode')),\n",
        "    (\"OutlierImputer\",OutlierImputer(columns=[\"LVL\"])),\n",
        "    (\"OneHot\",ColOneHot(columns=[\"Laboral\"])),\n",
        "    (\"StardardScaler\",ColScaler(columns=[\"Edad\",\"Peso\",\"REC2\",\"REC3\",\"REC4\",\"REC5\",\"LVL\"], scaler=StandardScaler())),\n",
        "    (\"Averager_B\",ColumnAverager(columns=[\"BLD01\",\"BLD02\",\"BLD03\"],new_column_name=\"BLDAVG\")),\n",
        "    (\"Averager_R\",ColumnAverager(columns=[\"REC1\",\"REC2\",\"REC3\",\"REC4\",\"REC5\"],new_column_name=\"RECAVG\")),\n",
        "    (\"ColumnsAVGDropper\",ColumnDropper(columns=[\"BLD01\",\"BLD02\",\"BLD03\",\"REC1\",\"REC2\",\"REC3\",\"REC4\",\"REC5\"]))\n",
        "]"
      ],
      "metadata": {
        "id": "tT4O11TzV3HO"
      },
      "execution_count": 61,
      "outputs": []
    },
    {
      "cell_type": "code",
      "source": [
        "#Defino los pipelines diferentes que voy a usar.\n",
        "\n",
        "pipelines = [\n",
        "    Pipeline(steps=pasos_comunes + [(\"common\", RandomForestClassifier(n_estimators=90, max_depth=8,min_samples_leaf=10,min_samples_split=14,max_features=None,criterion='log_loss'))]),\n",
        "    Pipeline(steps=bld_rec_avg + [(\"s_b_r\", RandomForestClassifier(n_estimators=90, max_depth=8,min_samples_leaf=10,min_samples_split=14,max_features=None,criterion='log_loss'))]),\n",
        "    Pipeline(steps=pasos_comunes_mean + [(\"common_mean\", RandomForestClassifier(n_estimators=90, max_depth=8,min_samples_leaf=10,min_samples_split=14,max_features=None,criterion='log_loss'))]),\n",
        "    Pipeline(steps=bld_rec_avg_mean + [(\"s_b_r_mean\", RandomForestClassifier(n_estimators=90, max_depth=8,min_samples_leaf=10,min_samples_split=14,max_features=None,criterion='log_loss'))]),\n",
        "    Pipeline(steps=pasos_comunes_mode + [(\"common_mode\", RandomForestClassifier(n_estimators=90, max_depth=8,min_samples_leaf=10,min_samples_split=14,max_features=None,criterion='log_loss'))]),\n",
        "    Pipeline(steps=bld_rec_avg_mode + [(\"s_b_r_mode\", RandomForestClassifier(n_estimators=90, max_depth=8,min_samples_leaf=10,min_samples_split=14,max_features=None,criterion='log_loss'))])\n",
        "]\n",
        "\n",
        "classifier_names = [\n",
        "    \"Comunes\",\n",
        "    \"AVG\",\n",
        "    \"Comunes_Media\",\n",
        "    \"AVG_Media\",\n",
        "    \"Comunes_Moda\",\n",
        "    \"AVG_Moda\"\n",
        "]"
      ],
      "metadata": {
        "id": "zeHpuEhfWpKN"
      },
      "execution_count": 62,
      "outputs": []
    },
    {
      "cell_type": "code",
      "source": [
        "# Veo el Score de cada PipeLine\n",
        "for name, pipeline in zip(classifier_names, pipelines):\n",
        "    pipeline.fit(X_train, y_train)\n",
        "    y_pred = pipeline.predict(X_test)\n",
        "    if name == \"Linear Regression\":\n",
        "        mse = mean_squared_error(y_test, y_pred)\n",
        "        print(f\"MSE for {name}: {mse:.2f}\")\n",
        "    else:\n",
        "        f1 = f1_score(y_test, y_pred)\n",
        "        print(f\"F1 Score for {name}: {f1:.2f}\")"
      ],
      "metadata": {
        "colab": {
          "base_uri": "https://localhost:8080/"
        },
        "id": "BTbV04hpW6B0",
        "outputId": "c476c47d-b3af-4943-83e5-d5a457237986"
      },
      "execution_count": 63,
      "outputs": [
        {
          "output_type": "stream",
          "name": "stdout",
          "text": [
            "F1 Score for Comunes: 0.73\n",
            "F1 Score for AVG: 0.70\n",
            "F1 Score for Comunes_Media: 0.74\n",
            "F1 Score for AVG_Media: 0.70\n",
            "F1 Score for Comunes_Moda: 0.73\n",
            "F1 Score for AVG_Moda: 0.70\n"
          ]
        }
      ]
    },
    {
      "cell_type": "code",
      "source": [
        "# Validacion Cruzada de Pipelines\n",
        "for name, pipeline in zip(classifier_names, pipelines):\n",
        "    scores = cross_val_score(pipeline, X, y, cv=5, scoring='f1')\n",
        "    print(f\"Cross-validated F1 Score for {name}: {scores.mean():.2f} (std: {scores.std():.2f})\")"
      ],
      "metadata": {
        "colab": {
          "base_uri": "https://localhost:8080/"
        },
        "id": "m5ETkKIr4jLK",
        "outputId": "727f0580-b918-4e64-c24d-d3c2e84363d4"
      },
      "execution_count": 64,
      "outputs": [
        {
          "output_type": "stream",
          "name": "stdout",
          "text": [
            "Cross-validated F1 Score for Comunes: 0.74 (std: 0.02)\n",
            "Cross-validated F1 Score for AVG: 0.69 (std: 0.02)\n",
            "Cross-validated F1 Score for Comunes_Media: 0.74 (std: 0.02)\n",
            "Cross-validated F1 Score for AVG_Media: 0.69 (std: 0.02)\n",
            "Cross-validated F1 Score for Comunes_Moda: 0.74 (std: 0.02)\n",
            "Cross-validated F1 Score for AVG_Moda: 0.69 (std: 0.02)\n"
          ]
        }
      ]
    },
    {
      "cell_type": "markdown",
      "source": [
        "Noto que realizar promedios entre esas columnas no aumenta el score, pero implica más trabajo. Por lo que me quedaré con todas las columnas. Una última prueba que se podría hacer sería la utilización de MinMaxScaler en lugar de StandardScaler, y aplicaría esa transformación a cada columna numérica."
      ],
      "metadata": {
        "id": "t5jrowN8-0VQ"
      }
    },
    {
      "cell_type": "code",
      "source": [
        "#Pipeline con los pasos que usé para obtener el mejor modelo\n",
        "pasos_comunes_minmax = [\n",
        "    (\"ColumnDropper\",ColumnDropper(columns=[\"Genero\"])),\n",
        "    (\"NullImputer\",NullImputer(columns=[\"Edad\",\"LVL\"],strategy='median')),\n",
        "    (\"OutlierImputer\",OutlierImputer(columns=[\"LVL\"])),\n",
        "    (\"OneHot\",ColOneHot(columns=[\"Laboral\"])),\n",
        "    (\"StardardScaler\",ColScaler(columns=[\"Edad\",\"Peso\",\"REC2\",\"REC3\",\"REC4\",\"REC5\",\"BLD01\",\"BLD02\",\"BLD03\",\"LVL\"], scaler=MinMaxScaler(feature_range=(0, 1))))\n",
        "]\n",
        "\n",
        "#Pasos comunes, pero ahora con media para Edad y LVL\n",
        "pasos_comunes_mean_minmax = [\n",
        "    (\"ColumnDropper\",ColumnDropper(columns=[\"Genero\"])),\n",
        "    (\"NullImputer\",NullImputer(columns=[\"Edad\",\"LVL\"],strategy='mean')),\n",
        "    (\"OutlierImputer\",OutlierImputer(columns=[\"LVL\"])),\n",
        "    (\"OneHot\",ColOneHot(columns=[\"Laboral\"])),\n",
        "    (\"StardardScaler\",ColScaler(columns=[\"Edad\",\"Peso\",\"REC2\",\"REC3\",\"REC4\",\"REC5\",\"BLD01\",\"BLD02\",\"BLD03\",\"LVL\"], scaler=MinMaxScaler(feature_range=(0, 1))))\n",
        "]\n",
        "\n",
        "#Pasos comunes, pero ahora con moda para Edad y LVL\n",
        "pasos_comunes_mode_minmax = [\n",
        "    (\"ColumnDropper\",ColumnDropper(columns=[\"Genero\"])),\n",
        "    (\"NullImputer\",NullImputer(columns=[\"Edad\",\"LVL\"],strategy='mode')),\n",
        "    (\"OutlierImputer\",OutlierImputer(columns=[\"LVL\"])),\n",
        "    (\"OneHot\",ColOneHot(columns=[\"Laboral\"])),\n",
        "    (\"StardardScaler\",ColScaler(columns=[\"Edad\",\"Peso\",\"REC2\",\"REC3\",\"REC4\",\"REC5\",\"BLD01\",\"BLD02\",\"BLD03\",\"LVL\"], scaler=MinMaxScaler(feature_range=(0, 1))))\n",
        "]"
      ],
      "metadata": {
        "id": "iCzuRnqm_Of7"
      },
      "execution_count": 65,
      "outputs": []
    },
    {
      "cell_type": "code",
      "source": [
        "#Defino los pipelines diferentes que voy a usar.\n",
        "\n",
        "pipelines = [\n",
        "    Pipeline(steps=pasos_comunes + [(\"common\", RandomForestClassifier(n_estimators=90, max_depth=8,min_samples_leaf=10,min_samples_split=14,max_features=None,criterion='log_loss'))]),\n",
        "    Pipeline(steps=pasos_comunes_mean + [(\"common_mean\", RandomForestClassifier(n_estimators=90, max_depth=8,min_samples_leaf=10,min_samples_split=14,max_features=None,criterion='log_loss'))]),\n",
        "    Pipeline(steps=pasos_comunes_mode + [(\"common_mode\", RandomForestClassifier(n_estimators=90, max_depth=8,min_samples_leaf=10,min_samples_split=14,max_features=None,criterion='log_loss'))])\n",
        "]\n",
        "\n",
        "classifier_names = [\n",
        "    \"Comunes_MinMax\",\n",
        "    \"Comunes_Media_MinMax\",\n",
        "    \"Comunes_Moda_MinMax\"\n",
        "]"
      ],
      "metadata": {
        "id": "k51KLmh1_zhs"
      },
      "execution_count": 66,
      "outputs": []
    },
    {
      "cell_type": "code",
      "source": [
        "# Veo el Score de cada PipeLine\n",
        "for name, pipeline in zip(classifier_names, pipelines):\n",
        "    pipeline.fit(X_train, y_train)\n",
        "    y_pred = pipeline.predict(X_test)\n",
        "    if name == \"Linear Regression\":\n",
        "        mse = mean_squared_error(y_test, y_pred)\n",
        "        print(f\"MSE for {name}: {mse:.2f}\")\n",
        "    else:\n",
        "        f1 = f1_score(y_test, y_pred)\n",
        "        print(f\"F1 Score for {name}: {f1:.2f}\")"
      ],
      "metadata": {
        "colab": {
          "base_uri": "https://localhost:8080/"
        },
        "id": "M60ZiRvvBI7B",
        "outputId": "fe1a8de7-b7e0-4e07-bb80-83563cbccfe4"
      },
      "execution_count": 67,
      "outputs": [
        {
          "output_type": "stream",
          "name": "stdout",
          "text": [
            "F1 Score for Comunes_MinMax: 0.73\n",
            "F1 Score for Comunes_Media_MinMax: 0.73\n",
            "F1 Score for Comunes_Moda_MinMax: 0.73\n"
          ]
        }
      ]
    },
    {
      "cell_type": "code",
      "source": [
        "# Validacion Cruzada de Pipelines\n",
        "for name, pipeline in zip(classifier_names, pipelines):\n",
        "    scores = cross_val_score(pipeline, X, y, cv=5, scoring='f1')\n",
        "    print(f\"Cross-validated F1 Score for {name}: {scores.mean():.2f} (std: {scores.std():.2f})\")"
      ],
      "metadata": {
        "colab": {
          "base_uri": "https://localhost:8080/"
        },
        "id": "f_O9sZMUBRZb",
        "outputId": "f5a3d943-819d-4cd1-9e0b-529863795510"
      },
      "execution_count": 68,
      "outputs": [
        {
          "output_type": "stream",
          "name": "stdout",
          "text": [
            "Cross-validated F1 Score for Comunes_MinMax: 0.73 (std: 0.01)\n",
            "Cross-validated F1 Score for Comunes_Media_MinMax: 0.73 (std: 0.02)\n",
            "Cross-validated F1 Score for Comunes_Moda_MinMax: 0.74 (std: 0.01)\n"
          ]
        }
      ]
    },
    {
      "cell_type": "markdown",
      "source": [
        "Veo que el mejor score lo he obtenido cuando utilicé la media para imputar la Edad y LVL. Por lo tanto, ese será el modelo que utilizaré para este caso."
      ],
      "metadata": {
        "id": "diEdX5h4BhkE"
      }
    },
    {
      "cell_type": "markdown",
      "source": [
        "# Mejor clasificador encontrado"
      ],
      "metadata": {
        "id": "xyMpXE8qOlrK"
      }
    },
    {
      "cell_type": "code",
      "source": [
        "#Pasos comunes, pero ahora con media para Edad y LVL\n",
        "pasos_comunes_mean = [\n",
        "    (\"ColumnDropper\",ColumnDropper(columns=[\"Genero\"])),\n",
        "    (\"NullImputer\",NullImputer(columns=[\"Edad\",\"LVL\"],strategy='mean')),\n",
        "    (\"OutlierImputer\",OutlierImputer(columns=[\"LVL\"])),\n",
        "    (\"OneHot\",ColOneHot(columns=[\"Laboral\"])),\n",
        "    (\"StardardScaler\",ColScaler(columns=[\"Edad\",\"Peso\",\"REC2\",\"REC3\",\"REC4\",\"REC5\",\"LVL\"], scaler=StandardScaler()))\n",
        "]"
      ],
      "metadata": {
        "id": "ScD0HW1hmqMG"
      },
      "execution_count": 69,
      "outputs": []
    },
    {
      "cell_type": "code",
      "source": [
        "mi_clasificador = Pipeline(steps=pasos_comunes_mean + [(\"clf_rf\", RandomForestClassifier(n_estimators=90, max_depth=8,min_samples_leaf=10,min_samples_split=14,max_features=None,criterion='log_loss'))])\n",
        "\n",
        "mi_clasificador.fit(X_train, y_train)\n",
        "\n",
        "y_pred = mi_clasificador.predict(X_test)\n",
        "\n",
        "print(classification_report(y_test, y_pred))"
      ],
      "metadata": {
        "colab": {
          "base_uri": "https://localhost:8080/"
        },
        "id": "45IpOUsqOnyR",
        "outputId": "624a0654-98a6-46fe-adcd-6596d5b8b90c"
      },
      "execution_count": 74,
      "outputs": [
        {
          "output_type": "stream",
          "name": "stdout",
          "text": [
            "              precision    recall  f1-score   support\n",
            "\n",
            "           0       0.81      0.88      0.84       767\n",
            "           1       0.79      0.68      0.73       493\n",
            "\n",
            "    accuracy                           0.80      1260\n",
            "   macro avg       0.80      0.78      0.79      1260\n",
            "weighted avg       0.80      0.80      0.80      1260\n",
            "\n"
          ]
        }
      ]
    },
    {
      "cell_type": "markdown",
      "metadata": {
        "id": "qp-Pod5ep_pL"
      },
      "source": [
        "# Evaluacion final - Docente + Alumno"
      ]
    },
    {
      "cell_type": "code",
      "source": [
        "import pandas as pd\n",
        "from sklearn.metrics import classification_report\n",
        "from sklearn.model_selection import train_test_split\n",
        "\n",
        "PRODUCCION = False\n",
        "best_clf = mi_clasificador #Asignar aqui el mejor clasificador posible (previamente entrenado)\n",
        "\n",
        "#Leemos el dataset de evaluacion, simulando produccion\n",
        "if PRODUCCION==False:\n",
        "    df = pd.read_csv(\"TP_Virus_Alumnos.csv\")\n",
        "    _, df = train_test_split(df, test_size=0.3, random_state=42)\n",
        "else:\n",
        "    df = pd.read_csv(\"TP_Virus_Evaluacion.csv\")\n",
        "#Dividimos en target y predictoras\n",
        "\n",
        "X_prod = df.drop(\"target\", axis=1)\n",
        "y_prod = df[\"target\"]\n",
        "\n",
        "#Transformaciones\n",
        "best_clf.fit(X_prod,y_prod)\n",
        "\n",
        "#Evaluacion final\n",
        "y_pred = best_clf.predict(X_prod)\n",
        "print(classification_report(y_prod, y_pred))"
      ],
      "metadata": {
        "id": "pWIjB4oCQ9iq"
      },
      "execution_count": null,
      "outputs": []
    }
  ],
  "metadata": {
    "kernelspec": {
      "display_name": "Python 3",
      "language": "python",
      "name": "python3"
    },
    "language_info": {
      "codemirror_mode": {
        "name": "ipython",
        "version": 3
      },
      "file_extension": ".py",
      "mimetype": "text/x-python",
      "name": "python",
      "nbconvert_exporter": "python",
      "pygments_lexer": "ipython3",
      "version": "3.10.1"
    },
    "colab": {
      "provenance": [],
      "include_colab_link": true
    }
  },
  "nbformat": 4,
  "nbformat_minor": 0
}